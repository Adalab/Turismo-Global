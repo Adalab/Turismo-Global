{
 "cells": [
  {
   "cell_type": "code",
   "execution_count": 11,
   "metadata": {},
   "outputs": [],
   "source": [
    "#importacion de las librerias\n",
    "import pandas as pd\n",
    "import numpy as np"
   ]
  },
  {
   "cell_type": "code",
   "execution_count": 12,
   "metadata": {},
   "outputs": [],
   "source": [
    "df = pd.read_csv(\"Travel details dataset.csv\", index_col=0)"
   ]
  },
  {
   "cell_type": "code",
   "execution_count": 13,
   "metadata": {},
   "outputs": [
    {
     "data": {
      "text/html": [
       "<div>\n",
       "<style scoped>\n",
       "    .dataframe tbody tr th:only-of-type {\n",
       "        vertical-align: middle;\n",
       "    }\n",
       "\n",
       "    .dataframe tbody tr th {\n",
       "        vertical-align: top;\n",
       "    }\n",
       "\n",
       "    .dataframe thead th {\n",
       "        text-align: right;\n",
       "    }\n",
       "</style>\n",
       "<table border=\"1\" class=\"dataframe\">\n",
       "  <thead>\n",
       "    <tr style=\"text-align: right;\">\n",
       "      <th></th>\n",
       "      <th>Destination</th>\n",
       "      <th>Start date</th>\n",
       "      <th>End date</th>\n",
       "      <th>Duration (days)</th>\n",
       "      <th>Traveler name</th>\n",
       "      <th>Traveler age</th>\n",
       "      <th>Traveler gender</th>\n",
       "      <th>Traveler nationality</th>\n",
       "      <th>Accommodation type</th>\n",
       "      <th>Accommodation cost</th>\n",
       "      <th>Transportation type</th>\n",
       "      <th>Transportation cost</th>\n",
       "    </tr>\n",
       "    <tr>\n",
       "      <th>Trip ID</th>\n",
       "      <th></th>\n",
       "      <th></th>\n",
       "      <th></th>\n",
       "      <th></th>\n",
       "      <th></th>\n",
       "      <th></th>\n",
       "      <th></th>\n",
       "      <th></th>\n",
       "      <th></th>\n",
       "      <th></th>\n",
       "      <th></th>\n",
       "      <th></th>\n",
       "    </tr>\n",
       "  </thead>\n",
       "  <tbody>\n",
       "    <tr>\n",
       "      <th>1</th>\n",
       "      <td>London, UK</td>\n",
       "      <td>5/1/2023</td>\n",
       "      <td>5/8/2023</td>\n",
       "      <td>7.0</td>\n",
       "      <td>John Smith</td>\n",
       "      <td>35.0</td>\n",
       "      <td>Male</td>\n",
       "      <td>American</td>\n",
       "      <td>Hotel</td>\n",
       "      <td>1200</td>\n",
       "      <td>Flight</td>\n",
       "      <td>600</td>\n",
       "    </tr>\n",
       "    <tr>\n",
       "      <th>2</th>\n",
       "      <td>Phuket, Thailand</td>\n",
       "      <td>6/15/2023</td>\n",
       "      <td>6/20/2023</td>\n",
       "      <td>5.0</td>\n",
       "      <td>Jane Doe</td>\n",
       "      <td>28.0</td>\n",
       "      <td>Female</td>\n",
       "      <td>Canadian</td>\n",
       "      <td>Resort</td>\n",
       "      <td>800</td>\n",
       "      <td>Flight</td>\n",
       "      <td>500</td>\n",
       "    </tr>\n",
       "    <tr>\n",
       "      <th>3</th>\n",
       "      <td>Bali, Indonesia</td>\n",
       "      <td>7/1/2023</td>\n",
       "      <td>7/8/2023</td>\n",
       "      <td>7.0</td>\n",
       "      <td>David Lee</td>\n",
       "      <td>45.0</td>\n",
       "      <td>Male</td>\n",
       "      <td>Korean</td>\n",
       "      <td>Villa</td>\n",
       "      <td>1000</td>\n",
       "      <td>Flight</td>\n",
       "      <td>700</td>\n",
       "    </tr>\n",
       "    <tr>\n",
       "      <th>4</th>\n",
       "      <td>New York, USA</td>\n",
       "      <td>8/15/2023</td>\n",
       "      <td>8/29/2023</td>\n",
       "      <td>14.0</td>\n",
       "      <td>Sarah Johnson</td>\n",
       "      <td>29.0</td>\n",
       "      <td>Female</td>\n",
       "      <td>British</td>\n",
       "      <td>Hotel</td>\n",
       "      <td>2000</td>\n",
       "      <td>Flight</td>\n",
       "      <td>1000</td>\n",
       "    </tr>\n",
       "    <tr>\n",
       "      <th>5</th>\n",
       "      <td>Tokyo, Japan</td>\n",
       "      <td>9/10/2023</td>\n",
       "      <td>9/17/2023</td>\n",
       "      <td>7.0</td>\n",
       "      <td>Kim Nguyen</td>\n",
       "      <td>26.0</td>\n",
       "      <td>Female</td>\n",
       "      <td>Vietnamese</td>\n",
       "      <td>Airbnb</td>\n",
       "      <td>700</td>\n",
       "      <td>Train</td>\n",
       "      <td>200</td>\n",
       "    </tr>\n",
       "    <tr>\n",
       "      <th>6</th>\n",
       "      <td>Paris, France</td>\n",
       "      <td>10/5/2023</td>\n",
       "      <td>10/10/2023</td>\n",
       "      <td>5.0</td>\n",
       "      <td>Michael Brown</td>\n",
       "      <td>42.0</td>\n",
       "      <td>Male</td>\n",
       "      <td>American</td>\n",
       "      <td>Hotel</td>\n",
       "      <td>1500</td>\n",
       "      <td>Flight</td>\n",
       "      <td>800</td>\n",
       "    </tr>\n",
       "  </tbody>\n",
       "</table>\n",
       "</div>"
      ],
      "text/plain": [
       "              Destination Start date    End date  Duration (days)  \\\n",
       "Trip ID                                                             \n",
       "1              London, UK   5/1/2023    5/8/2023              7.0   \n",
       "2        Phuket, Thailand  6/15/2023   6/20/2023              5.0   \n",
       "3         Bali, Indonesia   7/1/2023    7/8/2023              7.0   \n",
       "4           New York, USA  8/15/2023   8/29/2023             14.0   \n",
       "5            Tokyo, Japan  9/10/2023   9/17/2023              7.0   \n",
       "6           Paris, France  10/5/2023  10/10/2023              5.0   \n",
       "\n",
       "         Traveler name  Traveler age Traveler gender Traveler nationality  \\\n",
       "Trip ID                                                                     \n",
       "1           John Smith          35.0            Male             American   \n",
       "2             Jane Doe          28.0          Female             Canadian   \n",
       "3            David Lee          45.0            Male               Korean   \n",
       "4        Sarah Johnson          29.0          Female              British   \n",
       "5           Kim Nguyen          26.0          Female           Vietnamese   \n",
       "6        Michael Brown          42.0            Male             American   \n",
       "\n",
       "        Accommodation type Accommodation cost Transportation type  \\\n",
       "Trip ID                                                             \n",
       "1                    Hotel               1200              Flight   \n",
       "2                   Resort                800              Flight   \n",
       "3                    Villa               1000              Flight   \n",
       "4                    Hotel               2000              Flight   \n",
       "5                   Airbnb                700               Train   \n",
       "6                    Hotel               1500              Flight   \n",
       "\n",
       "        Transportation cost  \n",
       "Trip ID                      \n",
       "1                       600  \n",
       "2                       500  \n",
       "3                       700  \n",
       "4                      1000  \n",
       "5                       200  \n",
       "6                       800  "
      ]
     },
     "execution_count": 13,
     "metadata": {},
     "output_type": "execute_result"
    }
   ],
   "source": [
    "df.head(6)"
   ]
  },
  {
   "cell_type": "code",
   "execution_count": 14,
   "metadata": {},
   "outputs": [
    {
     "data": {
      "text/plain": [
       "Destination              object\n",
       "Start date               object\n",
       "End date                 object\n",
       "Duration (days)         float64\n",
       "Traveler name            object\n",
       "Traveler age            float64\n",
       "Traveler gender          object\n",
       "Traveler nationality     object\n",
       "Accommodation type       object\n",
       "Accommodation cost       object\n",
       "Transportation type      object\n",
       "Transportation cost      object\n",
       "dtype: object"
      ]
     },
     "execution_count": 14,
     "metadata": {},
     "output_type": "execute_result"
    }
   ],
   "source": [
    "# Muestra el tipo de dato de cada columna.\n",
    "df.dtypes"
   ]
  },
  {
   "cell_type": "code",
   "execution_count": 15,
   "metadata": {},
   "outputs": [
    {
     "data": {
      "text/plain": [
       "Destination             2\n",
       "Start date              2\n",
       "End date                2\n",
       "Duration (days)         2\n",
       "Traveler name           2\n",
       "Traveler age            2\n",
       "Traveler gender         2\n",
       "Traveler nationality    2\n",
       "Accommodation type      2\n",
       "Accommodation cost      2\n",
       "Transportation type     3\n",
       "Transportation cost     3\n",
       "dtype: int64"
      ]
     },
     "execution_count": 15,
     "metadata": {},
     "output_type": "execute_result"
    }
   ],
   "source": [
    "# Cuenta y muestra el número de valores nulos por columna.\n",
    "df.isnull().sum()"
   ]
  },
  {
   "cell_type": "code",
   "execution_count": null,
   "metadata": {},
   "outputs": [],
   "source": [
    "# Imputar con la mediana (para columnas numéricas)\n",
    "df['Traveler age'].fillna(df['Traveler age'].median(), inplace=True)\n"
   ]
  },
  {
   "cell_type": "code",
   "execution_count": null,
   "metadata": {},
   "outputs": [],
   "source": [
    " #Imputar con la moda (para columnas categóricas)\n",
    "df['Destination'].fillna(df['Destination'].mode()[0], inplace=True)\n",
    "df['Traveler name'].fillna(df['Traveler name'].mode()[0], inplace=True)\n",
    "df['Traveler gender'].fillna(df['Traveler gender'].mode()[0], inplace=True)\n",
    "df['Traveler nationality'].fillna(df['Traveler nationality'].mode()[0], inplace=True)\n",
    "df['Accommodation type'].fillna(df['Accommodation type'].mode()[0], inplace=True)\n",
    "df['Transportation type'].fillna(df['Transportation type'].mode()[0], inplace=True)"
   ]
  },
  {
   "cell_type": "code",
   "execution_count": 18,
   "metadata": {},
   "outputs": [],
   "source": [
    "#convertir Start date y End date a tipo datetime usando pd.to_datetime()\n",
    "\n",
    "df['Start date'] = pd.to_datetime(df['Start date'], errors='coerce')\n",
    "df['End date'] = pd.to_datetime(df['End date'], errors='coerce')"
   ]
  },
  {
   "cell_type": "code",
   "execution_count": 19,
   "metadata": {},
   "outputs": [],
   "source": [
    "#eliminar nulos (es uno por cada columna)\n",
    "df.dropna(subset=['Start date', 'End date', 'Transportation cost'], inplace=True)"
   ]
  },
  {
   "cell_type": "code",
   "execution_count": 20,
   "metadata": {},
   "outputs": [
    {
     "name": "stderr",
     "output_type": "stream",
     "text": [
      "<>:2: SyntaxWarning: invalid escape sequence '\\d'\n",
      "<>:3: SyntaxWarning: invalid escape sequence '\\d'\n",
      "<>:2: SyntaxWarning: invalid escape sequence '\\d'\n",
      "<>:3: SyntaxWarning: invalid escape sequence '\\d'\n",
      "C:\\Users\\hyena\\AppData\\Local\\Temp\\ipykernel_23696\\1918027900.py:2: SyntaxWarning: invalid escape sequence '\\d'\n",
      "  df['Accommodation cost'] = pd.to_numeric(df['Accommodation cost'].str.replace('[^\\d\\.]', '', regex=True), errors='coerce')\n",
      "C:\\Users\\hyena\\AppData\\Local\\Temp\\ipykernel_23696\\1918027900.py:3: SyntaxWarning: invalid escape sequence '\\d'\n",
      "  df['Transportation cost'] = pd.to_numeric(df['Transportation cost'].str.replace('[^\\d\\.]', '', regex=True), errors='coerce')\n"
     ]
    }
   ],
   "source": [
    " #limpiar los datos de cualquier caracter que impida la correcta conversión, como simbolos de moneda, o comas usadas como separador de miles.\n",
    "df['Accommodation cost'] = pd.to_numeric(df['Accommodation cost'].str.replace('[^\\d\\.]', '', regex=True), errors='coerce')\n",
    "df['Transportation cost'] = pd.to_numeric(df['Transportation cost'].str.replace('[^\\d\\.]', '', regex=True), errors='coerce')"
   ]
  },
  {
   "cell_type": "code",
   "execution_count": null,
   "metadata": {},
   "outputs": [],
   "source": []
  },
  {
   "cell_type": "code",
   "execution_count": 21,
   "metadata": {},
   "outputs": [
    {
     "data": {
      "text/plain": [
       "Destination             0\n",
       "Start date              0\n",
       "End date                0\n",
       "Duration (days)         0\n",
       "Traveler name           0\n",
       "Traveler age            0\n",
       "Traveler gender         0\n",
       "Traveler nationality    0\n",
       "Accommodation type      0\n",
       "Accommodation cost      0\n",
       "Transportation type     0\n",
       "Transportation cost     0\n",
       "dtype: int64"
      ]
     },
     "execution_count": 21,
     "metadata": {},
     "output_type": "execute_result"
    }
   ],
   "source": [
    "df.isnull().sum()"
   ]
  },
  {
   "cell_type": "code",
   "execution_count": 22,
   "metadata": {},
   "outputs": [
    {
     "data": {
      "text/plain": [
       "0"
      ]
     },
     "execution_count": 22,
     "metadata": {},
     "output_type": "execute_result"
    }
   ],
   "source": [
    "# Muestra el número total de filas duplicadas.\n",
    "df.duplicated().sum()"
   ]
  },
  {
   "cell_type": "code",
   "execution_count": 23,
   "metadata": {},
   "outputs": [],
   "source": [
    "#Eliminamos duplicados \n",
    "df.drop_duplicates(inplace=True)"
   ]
  },
  {
   "cell_type": "code",
   "execution_count": 24,
   "metadata": {},
   "outputs": [
    {
     "data": {
      "text/plain": [
       "0"
      ]
     },
     "execution_count": 24,
     "metadata": {},
     "output_type": "execute_result"
    }
   ],
   "source": [
    "#Asegurarse que se han eliminado\n",
    "df.duplicated().sum()"
   ]
  },
  {
   "cell_type": "code",
   "execution_count": 25,
   "metadata": {},
   "outputs": [
    {
     "data": {
      "text/plain": [
       "(136, 12)"
      ]
     },
     "execution_count": 25,
     "metadata": {},
     "output_type": "execute_result"
    }
   ],
   "source": [
    "# Mostrar número de filas y columnas.\n",
    "df.shape"
   ]
  },
  {
   "cell_type": "code",
   "execution_count": 26,
   "metadata": {},
   "outputs": [
    {
     "data": {
      "text/html": [
       "<div>\n",
       "<style scoped>\n",
       "    .dataframe tbody tr th:only-of-type {\n",
       "        vertical-align: middle;\n",
       "    }\n",
       "\n",
       "    .dataframe tbody tr th {\n",
       "        vertical-align: top;\n",
       "    }\n",
       "\n",
       "    .dataframe thead th {\n",
       "        text-align: right;\n",
       "    }\n",
       "</style>\n",
       "<table border=\"1\" class=\"dataframe\">\n",
       "  <thead>\n",
       "    <tr style=\"text-align: right;\">\n",
       "      <th></th>\n",
       "      <th>Destination</th>\n",
       "      <th>Start date</th>\n",
       "      <th>End date</th>\n",
       "      <th>Duration (days)</th>\n",
       "      <th>Traveler name</th>\n",
       "      <th>Traveler age</th>\n",
       "      <th>Traveler gender</th>\n",
       "      <th>Traveler nationality</th>\n",
       "      <th>Accommodation type</th>\n",
       "      <th>Accommodation cost</th>\n",
       "      <th>Transportation type</th>\n",
       "      <th>Transportation cost</th>\n",
       "    </tr>\n",
       "    <tr>\n",
       "      <th>Trip ID</th>\n",
       "      <th></th>\n",
       "      <th></th>\n",
       "      <th></th>\n",
       "      <th></th>\n",
       "      <th></th>\n",
       "      <th></th>\n",
       "      <th></th>\n",
       "      <th></th>\n",
       "      <th></th>\n",
       "      <th></th>\n",
       "      <th></th>\n",
       "      <th></th>\n",
       "    </tr>\n",
       "  </thead>\n",
       "  <tbody>\n",
       "    <tr>\n",
       "      <th>1</th>\n",
       "      <td>London, UK</td>\n",
       "      <td>2023-05-01</td>\n",
       "      <td>2023-05-08</td>\n",
       "      <td>7.0</td>\n",
       "      <td>John Smith</td>\n",
       "      <td>35.0</td>\n",
       "      <td>Male</td>\n",
       "      <td>American</td>\n",
       "      <td>Hotel</td>\n",
       "      <td>1200</td>\n",
       "      <td>Flight</td>\n",
       "      <td>600</td>\n",
       "    </tr>\n",
       "    <tr>\n",
       "      <th>2</th>\n",
       "      <td>Phuket, Thailand</td>\n",
       "      <td>2023-06-15</td>\n",
       "      <td>2023-06-20</td>\n",
       "      <td>5.0</td>\n",
       "      <td>Jane Doe</td>\n",
       "      <td>28.0</td>\n",
       "      <td>Female</td>\n",
       "      <td>Canadian</td>\n",
       "      <td>Resort</td>\n",
       "      <td>800</td>\n",
       "      <td>Flight</td>\n",
       "      <td>500</td>\n",
       "    </tr>\n",
       "    <tr>\n",
       "      <th>3</th>\n",
       "      <td>Bali, Indonesia</td>\n",
       "      <td>2023-07-01</td>\n",
       "      <td>2023-07-08</td>\n",
       "      <td>7.0</td>\n",
       "      <td>David Lee</td>\n",
       "      <td>45.0</td>\n",
       "      <td>Male</td>\n",
       "      <td>Korean</td>\n",
       "      <td>Villa</td>\n",
       "      <td>1000</td>\n",
       "      <td>Flight</td>\n",
       "      <td>700</td>\n",
       "    </tr>\n",
       "    <tr>\n",
       "      <th>4</th>\n",
       "      <td>New York, USA</td>\n",
       "      <td>2023-08-15</td>\n",
       "      <td>2023-08-29</td>\n",
       "      <td>14.0</td>\n",
       "      <td>Sarah Johnson</td>\n",
       "      <td>29.0</td>\n",
       "      <td>Female</td>\n",
       "      <td>British</td>\n",
       "      <td>Hotel</td>\n",
       "      <td>2000</td>\n",
       "      <td>Flight</td>\n",
       "      <td>1000</td>\n",
       "    </tr>\n",
       "    <tr>\n",
       "      <th>5</th>\n",
       "      <td>Tokyo, Japan</td>\n",
       "      <td>2023-09-10</td>\n",
       "      <td>2023-09-17</td>\n",
       "      <td>7.0</td>\n",
       "      <td>Kim Nguyen</td>\n",
       "      <td>26.0</td>\n",
       "      <td>Female</td>\n",
       "      <td>Vietnamese</td>\n",
       "      <td>Airbnb</td>\n",
       "      <td>700</td>\n",
       "      <td>Train</td>\n",
       "      <td>200</td>\n",
       "    </tr>\n",
       "  </tbody>\n",
       "</table>\n",
       "</div>"
      ],
      "text/plain": [
       "              Destination Start date   End date  Duration (days)  \\\n",
       "Trip ID                                                            \n",
       "1              London, UK 2023-05-01 2023-05-08              7.0   \n",
       "2        Phuket, Thailand 2023-06-15 2023-06-20              5.0   \n",
       "3         Bali, Indonesia 2023-07-01 2023-07-08              7.0   \n",
       "4           New York, USA 2023-08-15 2023-08-29             14.0   \n",
       "5            Tokyo, Japan 2023-09-10 2023-09-17              7.0   \n",
       "\n",
       "         Traveler name  Traveler age Traveler gender Traveler nationality  \\\n",
       "Trip ID                                                                     \n",
       "1           John Smith          35.0            Male             American   \n",
       "2             Jane Doe          28.0          Female             Canadian   \n",
       "3            David Lee          45.0            Male               Korean   \n",
       "4        Sarah Johnson          29.0          Female              British   \n",
       "5           Kim Nguyen          26.0          Female           Vietnamese   \n",
       "\n",
       "        Accommodation type  Accommodation cost Transportation type  \\\n",
       "Trip ID                                                              \n",
       "1                    Hotel                1200              Flight   \n",
       "2                   Resort                 800              Flight   \n",
       "3                    Villa                1000              Flight   \n",
       "4                    Hotel                2000              Flight   \n",
       "5                   Airbnb                 700               Train   \n",
       "\n",
       "         Transportation cost  \n",
       "Trip ID                       \n",
       "1                        600  \n",
       "2                        500  \n",
       "3                        700  \n",
       "4                       1000  \n",
       "5                        200  "
      ]
     },
     "execution_count": 26,
     "metadata": {},
     "output_type": "execute_result"
    }
   ],
   "source": [
    "df.head()"
   ]
  },
  {
   "cell_type": "code",
   "execution_count": 29,
   "metadata": {},
   "outputs": [],
   "source": [
    "# Convertir 'Duration (days)' y 'Traveler age' a enteros\n",
    "df['Duration (days)'] = df['Duration (days)'].astype(int)\n",
    "df['Traveler age'] = df['Traveler age'].astype(int)"
   ]
  },
  {
   "cell_type": "code",
   "execution_count": 30,
   "metadata": {},
   "outputs": [
    {
     "data": {
      "text/plain": [
       "Destination                     object\n",
       "Start date              datetime64[ns]\n",
       "End date                datetime64[ns]\n",
       "Duration (days)                  int32\n",
       "Traveler name                   object\n",
       "Traveler age                     int32\n",
       "Traveler gender                 object\n",
       "Traveler nationality            object\n",
       "Accommodation type              object\n",
       "Accommodation cost               int64\n",
       "Transportation type             object\n",
       "Transportation cost              int64\n",
       "dtype: object"
      ]
     },
     "execution_count": 30,
     "metadata": {},
     "output_type": "execute_result"
    }
   ],
   "source": [
    "# Muestra el tipo de dato de cada columna.\n",
    "df.dtypes"
   ]
  }
 ],
 "metadata": {
  "kernelspec": {
   "display_name": "base",
   "language": "python",
   "name": "python3"
  },
  "language_info": {
   "codemirror_mode": {
    "name": "ipython",
    "version": 3
   },
   "file_extension": ".py",
   "mimetype": "text/x-python",
   "name": "python",
   "nbconvert_exporter": "python",
   "pygments_lexer": "ipython3",
   "version": "3.12.7"
  }
 },
 "nbformat": 4,
 "nbformat_minor": 2
}
