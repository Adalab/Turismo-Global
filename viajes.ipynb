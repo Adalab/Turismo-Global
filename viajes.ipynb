{
 "cells": [
  {
   "cell_type": "code",
   "execution_count": 55,
   "metadata": {},
   "outputs": [],
   "source": [
    "#importacion de las librerias\n",
    "import pandas as pd\n",
    "import numpy as np\n",
    "import warnings #Para quitar avisos en las gráficas"
   ]
  },
  {
   "cell_type": "code",
   "execution_count": 56,
   "metadata": {},
   "outputs": [],
   "source": [
    "df = pd.read_csv(\"Travel details dataset.csv\", index_col=0)"
   ]
  },
  {
   "cell_type": "code",
   "execution_count": 57,
   "metadata": {},
   "outputs": [
    {
     "data": {
      "text/html": [
       "<div>\n",
       "<style scoped>\n",
       "    .dataframe tbody tr th:only-of-type {\n",
       "        vertical-align: middle;\n",
       "    }\n",
       "\n",
       "    .dataframe tbody tr th {\n",
       "        vertical-align: top;\n",
       "    }\n",
       "\n",
       "    .dataframe thead th {\n",
       "        text-align: right;\n",
       "    }\n",
       "</style>\n",
       "<table border=\"1\" class=\"dataframe\">\n",
       "  <thead>\n",
       "    <tr style=\"text-align: right;\">\n",
       "      <th></th>\n",
       "      <th>Destination</th>\n",
       "      <th>Start date</th>\n",
       "      <th>End date</th>\n",
       "      <th>Duration (days)</th>\n",
       "      <th>Traveler name</th>\n",
       "      <th>Traveler age</th>\n",
       "      <th>Traveler gender</th>\n",
       "      <th>Traveler nationality</th>\n",
       "      <th>Accommodation type</th>\n",
       "      <th>Accommodation cost</th>\n",
       "      <th>Transportation type</th>\n",
       "      <th>Transportation cost</th>\n",
       "    </tr>\n",
       "    <tr>\n",
       "      <th>Trip ID</th>\n",
       "      <th></th>\n",
       "      <th></th>\n",
       "      <th></th>\n",
       "      <th></th>\n",
       "      <th></th>\n",
       "      <th></th>\n",
       "      <th></th>\n",
       "      <th></th>\n",
       "      <th></th>\n",
       "      <th></th>\n",
       "      <th></th>\n",
       "      <th></th>\n",
       "    </tr>\n",
       "  </thead>\n",
       "  <tbody>\n",
       "    <tr>\n",
       "      <th>1</th>\n",
       "      <td>London, UK</td>\n",
       "      <td>5/1/2023</td>\n",
       "      <td>5/8/2023</td>\n",
       "      <td>7.0</td>\n",
       "      <td>John Smith</td>\n",
       "      <td>35.0</td>\n",
       "      <td>Male</td>\n",
       "      <td>American</td>\n",
       "      <td>Hotel</td>\n",
       "      <td>1200</td>\n",
       "      <td>Flight</td>\n",
       "      <td>600</td>\n",
       "    </tr>\n",
       "    <tr>\n",
       "      <th>2</th>\n",
       "      <td>Phuket, Thailand</td>\n",
       "      <td>6/15/2023</td>\n",
       "      <td>6/20/2023</td>\n",
       "      <td>5.0</td>\n",
       "      <td>Jane Doe</td>\n",
       "      <td>28.0</td>\n",
       "      <td>Female</td>\n",
       "      <td>Canadian</td>\n",
       "      <td>Resort</td>\n",
       "      <td>800</td>\n",
       "      <td>Flight</td>\n",
       "      <td>500</td>\n",
       "    </tr>\n",
       "    <tr>\n",
       "      <th>3</th>\n",
       "      <td>Bali, Indonesia</td>\n",
       "      <td>7/1/2023</td>\n",
       "      <td>7/8/2023</td>\n",
       "      <td>7.0</td>\n",
       "      <td>David Lee</td>\n",
       "      <td>45.0</td>\n",
       "      <td>Male</td>\n",
       "      <td>Korean</td>\n",
       "      <td>Villa</td>\n",
       "      <td>1000</td>\n",
       "      <td>Flight</td>\n",
       "      <td>700</td>\n",
       "    </tr>\n",
       "    <tr>\n",
       "      <th>4</th>\n",
       "      <td>New York, USA</td>\n",
       "      <td>8/15/2023</td>\n",
       "      <td>8/29/2023</td>\n",
       "      <td>14.0</td>\n",
       "      <td>Sarah Johnson</td>\n",
       "      <td>29.0</td>\n",
       "      <td>Female</td>\n",
       "      <td>British</td>\n",
       "      <td>Hotel</td>\n",
       "      <td>2000</td>\n",
       "      <td>Flight</td>\n",
       "      <td>1000</td>\n",
       "    </tr>\n",
       "    <tr>\n",
       "      <th>5</th>\n",
       "      <td>Tokyo, Japan</td>\n",
       "      <td>9/10/2023</td>\n",
       "      <td>9/17/2023</td>\n",
       "      <td>7.0</td>\n",
       "      <td>Kim Nguyen</td>\n",
       "      <td>26.0</td>\n",
       "      <td>Female</td>\n",
       "      <td>Vietnamese</td>\n",
       "      <td>Airbnb</td>\n",
       "      <td>700</td>\n",
       "      <td>Train</td>\n",
       "      <td>200</td>\n",
       "    </tr>\n",
       "    <tr>\n",
       "      <th>6</th>\n",
       "      <td>Paris, France</td>\n",
       "      <td>10/5/2023</td>\n",
       "      <td>10/10/2023</td>\n",
       "      <td>5.0</td>\n",
       "      <td>Michael Brown</td>\n",
       "      <td>42.0</td>\n",
       "      <td>Male</td>\n",
       "      <td>American</td>\n",
       "      <td>Hotel</td>\n",
       "      <td>1500</td>\n",
       "      <td>Flight</td>\n",
       "      <td>800</td>\n",
       "    </tr>\n",
       "  </tbody>\n",
       "</table>\n",
       "</div>"
      ],
      "text/plain": [
       "              Destination Start date    End date  Duration (days)  \\\n",
       "Trip ID                                                             \n",
       "1              London, UK   5/1/2023    5/8/2023              7.0   \n",
       "2        Phuket, Thailand  6/15/2023   6/20/2023              5.0   \n",
       "3         Bali, Indonesia   7/1/2023    7/8/2023              7.0   \n",
       "4           New York, USA  8/15/2023   8/29/2023             14.0   \n",
       "5            Tokyo, Japan  9/10/2023   9/17/2023              7.0   \n",
       "6           Paris, France  10/5/2023  10/10/2023              5.0   \n",
       "\n",
       "         Traveler name  Traveler age Traveler gender Traveler nationality  \\\n",
       "Trip ID                                                                     \n",
       "1           John Smith          35.0            Male             American   \n",
       "2             Jane Doe          28.0          Female             Canadian   \n",
       "3            David Lee          45.0            Male               Korean   \n",
       "4        Sarah Johnson          29.0          Female              British   \n",
       "5           Kim Nguyen          26.0          Female           Vietnamese   \n",
       "6        Michael Brown          42.0            Male             American   \n",
       "\n",
       "        Accommodation type Accommodation cost Transportation type  \\\n",
       "Trip ID                                                             \n",
       "1                    Hotel               1200              Flight   \n",
       "2                   Resort                800              Flight   \n",
       "3                    Villa               1000              Flight   \n",
       "4                    Hotel               2000              Flight   \n",
       "5                   Airbnb                700               Train   \n",
       "6                    Hotel               1500              Flight   \n",
       "\n",
       "        Transportation cost  \n",
       "Trip ID                      \n",
       "1                       600  \n",
       "2                       500  \n",
       "3                       700  \n",
       "4                      1000  \n",
       "5                       200  \n",
       "6                       800  "
      ]
     },
     "execution_count": 57,
     "metadata": {},
     "output_type": "execute_result"
    }
   ],
   "source": [
    "df.head(6)"
   ]
  },
  {
   "cell_type": "code",
   "execution_count": 59,
   "metadata": {},
   "outputs": [
    {
     "data": {
      "text/plain": [
       "array(['London, UK', 'Phuket, Thailand', 'Bali, Indonesia',\n",
       "       'New York, USA', 'Tokyo, Japan', 'Paris, France',\n",
       "       'Sydney, Australia', 'Rio de Janeiro, Brazil',\n",
       "       'Amsterdam, Netherlands', 'Dubai, United Arab Emirates',\n",
       "       'Cancun, Mexico', 'Barcelona, Spain', 'Honolulu, Hawaii',\n",
       "       'Berlin, Germany', 'Marrakech, Morocco', 'Edinburgh, Scotland',\n",
       "       'Paris', 'Bali', 'London', 'Tokyo', 'New York', 'Sydney', 'Rome',\n",
       "       'Bangkok', 'Hawaii', 'Barcelona', 'Japan', 'Thailand', 'France',\n",
       "       'Australia', 'Brazil', 'Greece', 'Egypt', 'Mexico', 'Italy',\n",
       "       'Spain', 'Canada', 'New York City, USA', 'Bangkok, Thailand',\n",
       "       'Vancouver, Canada', 'Sydney, AUS', 'Seoul, South Korea',\n",
       "       'Los Angeles, USA', 'Rome, Italy', 'Cape Town', nan,\n",
       "       'Cape Town, SA', 'Sydney, Aus', 'Bangkok, Thai', 'Phuket, Thai',\n",
       "       'Dubai', 'Seoul', 'Rio de Janeiro', 'Amsterdam', 'Phuket',\n",
       "       'Santorini', 'Phnom Penh', 'Athens, Greece',\n",
       "       'Cape Town, South Africa', 'Auckland, New Zealand'], dtype=object)"
      ]
     },
     "execution_count": 59,
     "metadata": {},
     "output_type": "execute_result"
    }
   ],
   "source": [
    "df[\"Destination\"].unique()"
   ]
  },
  {
   "cell_type": "code",
   "execution_count": null,
   "metadata": {},
   "outputs": [],
   "source": [
    "\n",
    "\n",
    "def standardize_Destination(Destination):\n",
    "    if pd.isna(Destination):\n",
    "        return None  # Manejar valores NaN\n",
    "\n",
    "    Destination = str(Destination).strip()  # Convertir a string y eliminar espacios\n",
    "\n",
    "    # Correcciones de errores tipográficos\n",
    "    Destination = Destination.replace('Thailandland', 'Thailand')\n",
    "    Destination = Destination.replace('Australiatralia', 'Australia')\n",
    "\n",
    "    if ',' in Destination:\n",
    "        city, country = Destination.split(',', 1)\n",
    "        city = city.strip()\n",
    "        country = country.strip()\n",
    "\n",
    "        # Estandarizar nombres de países\n",
    "        country = country.replace('UK', 'United Kingdom').replace('USA', 'United States').replace('AUS', 'Australia').replace('Aus', 'Australia').replace('Thai', 'Thailand').replace('SA', 'South Africa')\n",
    "\n",
    "        return f'{country}, {city}' # Invertir el orden: país, ciudad\n",
    "    else:\n",
    "        # Rellenar países faltantes\n",
    "        country_mapping = {\n",
    "            'Paris': 'France',\n",
    "            'Bali': 'Indonesia',\n",
    "            'London': 'United Kingdom',\n",
    "            'Tokyo': 'Japan',\n",
    "            'New York': 'United States',\n",
    "            'Sydney': 'Australia',\n",
    "            'Rome': 'Italy',\n",
    "            'Bangkok': 'Thailand',\n",
    "            'Hawaii': 'United States',\n",
    "            'Barcelona': 'Spain',\n",
    "            'Japan': 'Japan',\n",
    "            'Thailand': 'Thailand',\n",
    "            'France': 'France',\n",
    "            'Australia': 'Australia',\n",
    "            'Brazil': 'Brazil',\n",
    "            'Greece': 'Greece',\n",
    "            'Egypt': 'Egypt',\n",
    "            'Mexico': 'Mexico',\n",
    "            'Italy': 'Italy',\n",
    "            'Spain': 'Spain',\n",
    "            'Canada': 'Canada',\n",
    "            'Dubai': 'United Arab Emirates',\n",
    "            'Seoul': 'South Korea',\n",
    "            'Rio de Janeiro': 'Brazil',\n",
    "            'Amsterdam': 'Netherlands',\n",
    "            'Phuket': 'Thailand',\n",
    "            'Santorini': 'Greece',\n",
    "            'Phnom Penh': 'Cambodia',\n",
    "            'Cape Town': 'South Africa',\n",
    "            'Auckland': 'New Zealand',\n",
    "            'Cancun': 'Mexico',\n",
    "            'Honolulu': 'United States',\n",
    "            'Berlin': 'Germany',\n",
    "            'Marrakech': 'Morocco',\n",
    "            'Edinburgh': 'United Kingdom',\n",
    "            'Canberra': 'Australia',\n",
    "            'Brasília': 'Brazil',\n",
    "            'Athens': 'Greece',\n",
    "            'Cairo': 'Egypt',\n",
    "            'Mexico City': 'Mexico',\n",
    "            'Madrid': 'Spain',\n",
    "            'Ottawa': 'Canada',\n",
    "            'Vancouver': 'Canada',\n",
    "            'Los Angeles': 'United States',\n",
    "        }\n",
    "        city = Destination.strip()\n",
    "        country = country_mapping.get(city)\n",
    "        if country:\n",
    "            return f'{country}, {city}' # Invertir el orden: país, ciudad\n",
    "        else:\n",
    "            return Destination #En caso de no encontrar pais, se mantiene igual.\n",
    "\n",
    "\n",
    "\n",
    "# Aplicar la función a la columna 'Destination'\n",
    "df['Destination'] = df['Destination'].apply(standardize_Destination)\n",
    "\n",
    "# Eliminar filas con valores nulos en la columna 'Destination'\n",
    "df.dropna(subset=['Destination'], inplace=True)\n",
    "\n",
    "# Imprimir el DataFrame modificado\n",
    "print(df)"
   ]
  },
  {
   "cell_type": "code",
   "execution_count": 61,
   "metadata": {},
   "outputs": [
    {
     "data": {
      "text/plain": [
       "array(['United Kingdom, London', 'Thailandland, Phuket',\n",
       "       'Indonesia, Bali', 'United States, New York', 'Japan, Tokyo',\n",
       "       'France, Paris', 'Australiatralia, Sydney',\n",
       "       'Brazil, Rio de Janeiro', 'Netherlands, Amsterdam',\n",
       "       'United Arab Emirates, Dubai', 'Mexico, Cancun',\n",
       "       'Spain, Barcelona', 'Hawaii, Honolulu', 'Germany, Berlin',\n",
       "       'Morocco, Marrakech', 'Scotland, Edinburgh', 'Australia, Sydney',\n",
       "       'Italy, Rome', 'Thailand, Bangkok', 'United States, Hawaii',\n",
       "       'Japan, Japan', 'Thailand, Thailand', 'France, France',\n",
       "       'Australia, Australia', 'Brazil, Brazil', 'Greece, Greece',\n",
       "       'Egypt, Egypt', 'Mexico, Mexico', 'Italy, Italy', 'Spain, Spain',\n",
       "       'Canada, Canada', 'United States, New York City',\n",
       "       'Thailandland, Bangkok', 'Canada, Vancouver', 'South Korea, Seoul',\n",
       "       'United States, Los Angeles', 'South Africa, Cape Town',\n",
       "       'Thailand, Phuket', 'Greece, Santorini', 'Cambodia, Phnom Penh',\n",
       "       'Greece, Athens', 'New Zealand, Auckland'], dtype=object)"
      ]
     },
     "execution_count": 61,
     "metadata": {},
     "output_type": "execute_result"
    }
   ],
   "source": [
    "df[\"Destination\"].unique()"
   ]
  },
  {
   "cell_type": "code",
   "execution_count": null,
   "metadata": {},
   "outputs": [
    {
     "name": "stdout",
     "output_type": "stream",
     "text": [
      "Trip ID\n",
      "1       United Kingdom, London\n",
      "2         Thailandland, Phuket\n",
      "3              Indonesia, Bali\n",
      "4      United States, New York\n",
      "5                 Japan, Tokyo\n",
      "                ...           \n",
      "135     Brazil, Rio de Janeiro\n",
      "136          Canada, Vancouver\n",
      "137      Thailandland, Bangkok\n",
      "138           Spain, Barcelona\n",
      "139      New Zealand, Auckland\n",
      "Name: Destination, Length: 137, dtype: object\n"
     ]
    }
   ],
   "source": [
    "#Cambiar formato e los paises duplicados\n",
    "# Diccionario de países y capitales\n",
    "country_capitals = {\n",
    "    'Japan': 'Tokyo',\n",
    "    'Thailand': 'Bangkok',\n",
    "    'France': 'Paris',\n",
    "    'Australia': 'Sydney', #En este caso Sydney no es la capital, pero se mantiene ya que es la ciudad que aparece en los datos.\n",
    "    'Brazil': 'Rio de Janeiro',#En este caso Rio de Janeiro no es la capital, pero se mantiene ya que es la ciudad que aparece en los datos.\n",
    "    'Greece': 'Athens',\n",
    "    'Egypt': 'Cairo',\n",
    "    'Mexico': 'Mexico City',\n",
    "    'Italy': 'Rome',\n",
    "    'Spain': 'Madrid',\n",
    "    'Canada': 'Vancouver' #En este caso Vancouver no es la capital, pero se mantiene ya que es la ciudad que aparece en los datos.\n",
    "}\n",
    "\n",
    "# Función para cambiar el formato de los países duplicados\n",
    "def change_country_format(destination):\n",
    "    parts = destination.split(', ')\n",
    "    if len(parts) == 2 and parts[0] == parts[1] and parts[0] in country_capitals:\n",
    "        return f\"{parts[0]}, {country_capitals[parts[0]]}\"\n",
    "    return destination\n",
    "\n",
    "# Aplicar la función a la columna 'Destination'\n",
    "df['Destination'] = df['Destination'].apply(change_country_format)\n",
    "\n",
    "print(df['Destination'])"
   ]
  },
  {
   "cell_type": "code",
   "execution_count": null,
   "metadata": {},
   "outputs": [],
   "source": [
    "#Eliminar y reemplazar valores\n",
    "valores_a_eliminar = ['Thailandland, Phuket', 'Australiatralia, Sydney', 'Hawaii, Honolulu']\n",
    "\n",
    "# Reemplaza los valores por NaN\n",
    "df['Destination'] = df['Destination'].replace(valores_a_eliminar, np.nan)\n",
    "\n"
   ]
  },
  {
   "cell_type": "code",
   "execution_count": 64,
   "metadata": {},
   "outputs": [
    {
     "data": {
      "text/plain": [
       "array(['United Kingdom, London', nan, 'Indonesia, Bali',\n",
       "       'United States, New York', 'Japan, Tokyo', 'France, Paris',\n",
       "       'Brazil, Rio de Janeiro', 'Netherlands, Amsterdam',\n",
       "       'United Arab Emirates, Dubai', 'Mexico, Cancun',\n",
       "       'Spain, Barcelona', 'Germany, Berlin', 'Morocco, Marrakech',\n",
       "       'Scotland, Edinburgh', 'Australia, Sydney', 'Italy, Rome',\n",
       "       'Thailand, Bangkok', 'United States, Hawaii', 'Greece, Athens',\n",
       "       'Egypt, Cairo', 'Mexico, Mexico City', 'Spain, Madrid',\n",
       "       'Canada, Vancouver', 'United States, New York City',\n",
       "       'Thailandland, Bangkok', 'South Korea, Seoul',\n",
       "       'United States, Los Angeles', 'South Africa, Cape Town',\n",
       "       'Thailand, Phuket', 'Greece, Santorini', 'Cambodia, Phnom Penh',\n",
       "       'New Zealand, Auckland'], dtype=object)"
      ]
     },
     "execution_count": 64,
     "metadata": {},
     "output_type": "execute_result"
    }
   ],
   "source": [
    "df[\"Destination\"].unique()"
   ]
  },
  {
   "cell_type": "code",
   "execution_count": null,
   "metadata": {},
   "outputs": [],
   "source": [
    "#Eliminar valores faltantes Nan\n",
    "df.dropna(subset=['Destination'], inplace=True)"
   ]
  },
  {
   "cell_type": "code",
   "execution_count": 66,
   "metadata": {},
   "outputs": [
    {
     "data": {
      "text/plain": [
       "array(['United Kingdom, London', 'Indonesia, Bali',\n",
       "       'United States, New York', 'Japan, Tokyo', 'France, Paris',\n",
       "       'Brazil, Rio de Janeiro', 'Netherlands, Amsterdam',\n",
       "       'United Arab Emirates, Dubai', 'Mexico, Cancun',\n",
       "       'Spain, Barcelona', 'Germany, Berlin', 'Morocco, Marrakech',\n",
       "       'Scotland, Edinburgh', 'Australia, Sydney', 'Italy, Rome',\n",
       "       'Thailand, Bangkok', 'United States, Hawaii', 'Greece, Athens',\n",
       "       'Egypt, Cairo', 'Mexico, Mexico City', 'Spain, Madrid',\n",
       "       'Canada, Vancouver', 'United States, New York City',\n",
       "       'Thailandland, Bangkok', 'South Korea, Seoul',\n",
       "       'United States, Los Angeles', 'South Africa, Cape Town',\n",
       "       'Thailand, Phuket', 'Greece, Santorini', 'Cambodia, Phnom Penh',\n",
       "       'New Zealand, Auckland'], dtype=object)"
      ]
     },
     "execution_count": 66,
     "metadata": {},
     "output_type": "execute_result"
    }
   ],
   "source": [
    "df[\"Destination\"].unique()"
   ]
  },
  {
   "cell_type": "code",
   "execution_count": 67,
   "metadata": {},
   "outputs": [],
   "source": [
    "# Reemplazar 'Thailandland' por 'Thailand' en la columna 'Destination'\n",
    "df['Destination'] = df['Destination'].str.replace('Thailandland', 'Thailand')"
   ]
  },
  {
   "cell_type": "code",
   "execution_count": 68,
   "metadata": {},
   "outputs": [
    {
     "data": {
      "text/plain": [
       "array(['United Kingdom, London', 'Indonesia, Bali',\n",
       "       'United States, New York', 'Japan, Tokyo', 'France, Paris',\n",
       "       'Brazil, Rio de Janeiro', 'Netherlands, Amsterdam',\n",
       "       'United Arab Emirates, Dubai', 'Mexico, Cancun',\n",
       "       'Spain, Barcelona', 'Germany, Berlin', 'Morocco, Marrakech',\n",
       "       'Scotland, Edinburgh', 'Australia, Sydney', 'Italy, Rome',\n",
       "       'Thailand, Bangkok', 'United States, Hawaii', 'Greece, Athens',\n",
       "       'Egypt, Cairo', 'Mexico, Mexico City', 'Spain, Madrid',\n",
       "       'Canada, Vancouver', 'United States, New York City',\n",
       "       'South Korea, Seoul', 'United States, Los Angeles',\n",
       "       'South Africa, Cape Town', 'Thailand, Phuket', 'Greece, Santorini',\n",
       "       'Cambodia, Phnom Penh', 'New Zealand, Auckland'], dtype=object)"
      ]
     },
     "execution_count": 68,
     "metadata": {},
     "output_type": "execute_result"
    }
   ],
   "source": [
    "df[\"Destination\"].unique()"
   ]
  },
  {
   "cell_type": "code",
   "execution_count": 69,
   "metadata": {},
   "outputs": [
    {
     "data": {
      "text/plain": [
       "Destination              object\n",
       "Start date               object\n",
       "End date                 object\n",
       "Duration (days)         float64\n",
       "Traveler name            object\n",
       "Traveler age            float64\n",
       "Traveler gender          object\n",
       "Traveler nationality     object\n",
       "Accommodation type       object\n",
       "Accommodation cost       object\n",
       "Transportation type      object\n",
       "Transportation cost      object\n",
       "dtype: object"
      ]
     },
     "execution_count": 69,
     "metadata": {},
     "output_type": "execute_result"
    }
   ],
   "source": [
    "# Muestra el tipo de dato de cada columna.\n",
    "df.dtypes"
   ]
  },
  {
   "cell_type": "code",
   "execution_count": 70,
   "metadata": {},
   "outputs": [
    {
     "data": {
      "text/plain": [
       "Destination             0\n",
       "Start date              0\n",
       "End date                0\n",
       "Duration (days)         0\n",
       "Traveler name           0\n",
       "Traveler age            0\n",
       "Traveler gender         0\n",
       "Traveler nationality    0\n",
       "Accommodation type      0\n",
       "Accommodation cost      0\n",
       "Transportation type     1\n",
       "Transportation cost     1\n",
       "dtype: int64"
      ]
     },
     "execution_count": 70,
     "metadata": {},
     "output_type": "execute_result"
    }
   ],
   "source": [
    "# Cuenta y muestra el número de valores nulos por columna.\n",
    "df.isnull().sum()"
   ]
  },
  {
   "cell_type": "code",
   "execution_count": null,
   "metadata": {},
   "outputs": [],
   "source": [
    "# Imputar con la mediana (para columnas numéricas)\n",
    "df['Traveler age'].fillna(df['Traveler age'].median(), inplace=True)\n"
   ]
  },
  {
   "cell_type": "code",
   "execution_count": null,
   "metadata": {},
   "outputs": [],
   "source": [
    " #Imputar con la moda (para columnas categóricas)\n",
    "df['Destination'].fillna(df['Destination'].mode()[0], inplace=True)\n",
    "df['Traveler name'].fillna(df['Traveler name'].mode()[0], inplace=True)\n",
    "df['Traveler gender'].fillna(df['Traveler gender'].mode()[0], inplace=True)\n",
    "df['Traveler nationality'].fillna(df['Traveler nationality'].mode()[0], inplace=True)\n",
    "df['Accommodation type'].fillna(df['Accommodation type'].mode()[0], inplace=True)\n",
    "df['Transportation type'].fillna(df['Transportation type'].mode()[0], inplace=True)"
   ]
  },
  {
   "cell_type": "code",
   "execution_count": 73,
   "metadata": {},
   "outputs": [],
   "source": [
    "#convertir Start date y End date a tipo datetime usando pd.to_datetime()\n",
    "\n",
    "df['Start date'] = pd.to_datetime(df['Start date'], errors='coerce')\n",
    "df['End date'] = pd.to_datetime(df['End date'], errors='coerce')"
   ]
  },
  {
   "cell_type": "code",
   "execution_count": 74,
   "metadata": {},
   "outputs": [],
   "source": [
    "#eliminar nulos (es uno por cada fila)\n",
    "df.dropna(subset=['Start date', 'End date', 'Transportation cost'], inplace=True)"
   ]
  },
  {
   "cell_type": "code",
   "execution_count": null,
   "metadata": {},
   "outputs": [],
   "source": [
    " #limpiar los datos de cualquier caracter que impida la correcta conversión, como simbolos de moneda, o comas usadas como separador de miles.\n",
    "df['Accommodation cost'] = pd.to_numeric(df['Accommodation cost'].str.replace('[^\\d\\.]', '', regex=True), errors='coerce')\n",
    "df['Transportation cost'] = pd.to_numeric(df['Transportation cost'].str.replace('[^\\d\\.]', '', regex=True), errors='coerce')"
   ]
  },
  {
   "cell_type": "code",
   "execution_count": 76,
   "metadata": {},
   "outputs": [
    {
     "data": {
      "text/plain": [
       "Destination             0\n",
       "Start date              0\n",
       "End date                0\n",
       "Duration (days)         0\n",
       "Traveler name           0\n",
       "Traveler age            0\n",
       "Traveler gender         0\n",
       "Traveler nationality    0\n",
       "Accommodation type      0\n",
       "Accommodation cost      0\n",
       "Transportation type     0\n",
       "Transportation cost     0\n",
       "dtype: int64"
      ]
     },
     "execution_count": 76,
     "metadata": {},
     "output_type": "execute_result"
    }
   ],
   "source": [
    "df.isnull().sum()"
   ]
  },
  {
   "cell_type": "code",
   "execution_count": 77,
   "metadata": {},
   "outputs": [
    {
     "data": {
      "text/plain": [
       "0"
      ]
     },
     "execution_count": 77,
     "metadata": {},
     "output_type": "execute_result"
    }
   ],
   "source": [
    "# Muestra el número total de filas duplicadas.\n",
    "df.duplicated().sum()"
   ]
  },
  {
   "cell_type": "code",
   "execution_count": 78,
   "metadata": {},
   "outputs": [],
   "source": [
    "#Eliminamos duplicados \n",
    "df.drop_duplicates(inplace=True)"
   ]
  },
  {
   "cell_type": "code",
   "execution_count": 79,
   "metadata": {},
   "outputs": [
    {
     "data": {
      "text/plain": [
       "0"
      ]
     },
     "execution_count": 79,
     "metadata": {},
     "output_type": "execute_result"
    }
   ],
   "source": [
    "#Asegurarse que se han eliminado\n",
    "df.duplicated().sum()"
   ]
  },
  {
   "cell_type": "code",
   "execution_count": 80,
   "metadata": {},
   "outputs": [
    {
     "data": {
      "text/plain": [
       "(130, 12)"
      ]
     },
     "execution_count": 80,
     "metadata": {},
     "output_type": "execute_result"
    }
   ],
   "source": [
    "# Mostrar número de filas y columnas.\n",
    "df.shape"
   ]
  },
  {
   "cell_type": "code",
   "execution_count": 81,
   "metadata": {},
   "outputs": [
    {
     "data": {
      "text/html": [
       "<div>\n",
       "<style scoped>\n",
       "    .dataframe tbody tr th:only-of-type {\n",
       "        vertical-align: middle;\n",
       "    }\n",
       "\n",
       "    .dataframe tbody tr th {\n",
       "        vertical-align: top;\n",
       "    }\n",
       "\n",
       "    .dataframe thead th {\n",
       "        text-align: right;\n",
       "    }\n",
       "</style>\n",
       "<table border=\"1\" class=\"dataframe\">\n",
       "  <thead>\n",
       "    <tr style=\"text-align: right;\">\n",
       "      <th></th>\n",
       "      <th>Destination</th>\n",
       "      <th>Start date</th>\n",
       "      <th>End date</th>\n",
       "      <th>Duration (days)</th>\n",
       "      <th>Traveler name</th>\n",
       "      <th>Traveler age</th>\n",
       "      <th>Traveler gender</th>\n",
       "      <th>Traveler nationality</th>\n",
       "      <th>Accommodation type</th>\n",
       "      <th>Accommodation cost</th>\n",
       "      <th>Transportation type</th>\n",
       "      <th>Transportation cost</th>\n",
       "    </tr>\n",
       "    <tr>\n",
       "      <th>Trip ID</th>\n",
       "      <th></th>\n",
       "      <th></th>\n",
       "      <th></th>\n",
       "      <th></th>\n",
       "      <th></th>\n",
       "      <th></th>\n",
       "      <th></th>\n",
       "      <th></th>\n",
       "      <th></th>\n",
       "      <th></th>\n",
       "      <th></th>\n",
       "      <th></th>\n",
       "    </tr>\n",
       "  </thead>\n",
       "  <tbody>\n",
       "    <tr>\n",
       "      <th>1</th>\n",
       "      <td>United Kingdom, London</td>\n",
       "      <td>2023-05-01</td>\n",
       "      <td>2023-05-08</td>\n",
       "      <td>7.0</td>\n",
       "      <td>John Smith</td>\n",
       "      <td>35.0</td>\n",
       "      <td>Male</td>\n",
       "      <td>American</td>\n",
       "      <td>Hotel</td>\n",
       "      <td>1200</td>\n",
       "      <td>Flight</td>\n",
       "      <td>600</td>\n",
       "    </tr>\n",
       "    <tr>\n",
       "      <th>3</th>\n",
       "      <td>Indonesia, Bali</td>\n",
       "      <td>2023-07-01</td>\n",
       "      <td>2023-07-08</td>\n",
       "      <td>7.0</td>\n",
       "      <td>David Lee</td>\n",
       "      <td>45.0</td>\n",
       "      <td>Male</td>\n",
       "      <td>Korean</td>\n",
       "      <td>Villa</td>\n",
       "      <td>1000</td>\n",
       "      <td>Flight</td>\n",
       "      <td>700</td>\n",
       "    </tr>\n",
       "    <tr>\n",
       "      <th>4</th>\n",
       "      <td>United States, New York</td>\n",
       "      <td>2023-08-15</td>\n",
       "      <td>2023-08-29</td>\n",
       "      <td>14.0</td>\n",
       "      <td>Sarah Johnson</td>\n",
       "      <td>29.0</td>\n",
       "      <td>Female</td>\n",
       "      <td>British</td>\n",
       "      <td>Hotel</td>\n",
       "      <td>2000</td>\n",
       "      <td>Flight</td>\n",
       "      <td>1000</td>\n",
       "    </tr>\n",
       "    <tr>\n",
       "      <th>5</th>\n",
       "      <td>Japan, Tokyo</td>\n",
       "      <td>2023-09-10</td>\n",
       "      <td>2023-09-17</td>\n",
       "      <td>7.0</td>\n",
       "      <td>Kim Nguyen</td>\n",
       "      <td>26.0</td>\n",
       "      <td>Female</td>\n",
       "      <td>Vietnamese</td>\n",
       "      <td>Airbnb</td>\n",
       "      <td>700</td>\n",
       "      <td>Train</td>\n",
       "      <td>200</td>\n",
       "    </tr>\n",
       "    <tr>\n",
       "      <th>6</th>\n",
       "      <td>France, Paris</td>\n",
       "      <td>2023-10-05</td>\n",
       "      <td>2023-10-10</td>\n",
       "      <td>5.0</td>\n",
       "      <td>Michael Brown</td>\n",
       "      <td>42.0</td>\n",
       "      <td>Male</td>\n",
       "      <td>American</td>\n",
       "      <td>Hotel</td>\n",
       "      <td>1500</td>\n",
       "      <td>Flight</td>\n",
       "      <td>800</td>\n",
       "    </tr>\n",
       "  </tbody>\n",
       "</table>\n",
       "</div>"
      ],
      "text/plain": [
       "                     Destination Start date   End date  Duration (days)  \\\n",
       "Trip ID                                                                   \n",
       "1         United Kingdom, London 2023-05-01 2023-05-08              7.0   \n",
       "3                Indonesia, Bali 2023-07-01 2023-07-08              7.0   \n",
       "4        United States, New York 2023-08-15 2023-08-29             14.0   \n",
       "5                   Japan, Tokyo 2023-09-10 2023-09-17              7.0   \n",
       "6                  France, Paris 2023-10-05 2023-10-10              5.0   \n",
       "\n",
       "         Traveler name  Traveler age Traveler gender Traveler nationality  \\\n",
       "Trip ID                                                                     \n",
       "1           John Smith          35.0            Male             American   \n",
       "3            David Lee          45.0            Male               Korean   \n",
       "4        Sarah Johnson          29.0          Female              British   \n",
       "5           Kim Nguyen          26.0          Female           Vietnamese   \n",
       "6        Michael Brown          42.0            Male             American   \n",
       "\n",
       "        Accommodation type  Accommodation cost Transportation type  \\\n",
       "Trip ID                                                              \n",
       "1                    Hotel                1200              Flight   \n",
       "3                    Villa                1000              Flight   \n",
       "4                    Hotel                2000              Flight   \n",
       "5                   Airbnb                 700               Train   \n",
       "6                    Hotel                1500              Flight   \n",
       "\n",
       "         Transportation cost  \n",
       "Trip ID                       \n",
       "1                        600  \n",
       "3                        700  \n",
       "4                       1000  \n",
       "5                        200  \n",
       "6                        800  "
      ]
     },
     "execution_count": 81,
     "metadata": {},
     "output_type": "execute_result"
    }
   ],
   "source": [
    "df.head()"
   ]
  },
  {
   "cell_type": "code",
   "execution_count": 82,
   "metadata": {},
   "outputs": [],
   "source": [
    "# Convertir 'Duration (days)' y 'Traveler age' a enteros\n",
    "df['Duration (days)'] = df['Duration (days)'].astype(int)\n",
    "df['Traveler age'] = df['Traveler age'].astype(int)"
   ]
  },
  {
   "cell_type": "code",
   "execution_count": 83,
   "metadata": {},
   "outputs": [],
   "source": [
    "# Reemplazar valores\n",
    "df['Traveler nationality'] = df['Traveler nationality'].replace({\n",
    "    'British': 'UK',\n",
    "    'United Kingdom': 'UK',\n",
    "    'Dutch': 'Germany',\n",
    "    'United Arab Emirates': 'Emirati',\n",
    "    'China': 'Chinese',\n",
    "    'Hong Kong': 'Chinese',\n",
    "    'American': 'USA',\n",
    "    'Japan':'Japanese',\n",
    "    'South Korea':'South Korean',\n",
    "    'Canada':'Canadian',\n",
    "    'Brazil':'Brazilian',\n",
    "    'Taiwan':'Taiwanese',\n",
    "    'Spain': 'Spanish',\n",
    "    'German':'Germany',\n",
    "    'Italy': 'Italian'\n",
    "    \n",
    "    \n",
    "})"
   ]
  },
  {
   "cell_type": "code",
   "execution_count": 84,
   "metadata": {},
   "outputs": [
    {
     "data": {
      "text/plain": [
       "array(['USA', 'Korean', 'UK', 'Vietnamese', 'Brazilian', 'Germany',\n",
       "       'Emirati', 'Mexican', 'Spanish', 'Moroccan', 'Scottish', 'Chinese',\n",
       "       'Japanese', 'Australian', 'Italian', 'Indian', 'Canadian',\n",
       "       'South Korean', 'French', 'South African', 'Taiwanese',\n",
       "       'Indonesian', 'Singapore', 'Greece', 'Cambodia', 'New Zealander'],\n",
       "      dtype=object)"
      ]
     },
     "execution_count": 84,
     "metadata": {},
     "output_type": "execute_result"
    }
   ],
   "source": [
    "df[\"Traveler nationality\"].unique()"
   ]
  },
  {
   "cell_type": "code",
   "execution_count": 85,
   "metadata": {},
   "outputs": [
    {
     "data": {
      "text/plain": [
       "Destination                     object\n",
       "Start date              datetime64[ns]\n",
       "End date                datetime64[ns]\n",
       "Duration (days)                  int32\n",
       "Traveler name                   object\n",
       "Traveler age                     int32\n",
       "Traveler gender                 object\n",
       "Traveler nationality            object\n",
       "Accommodation type              object\n",
       "Accommodation cost               int64\n",
       "Transportation type             object\n",
       "Transportation cost              int64\n",
       "dtype: object"
      ]
     },
     "execution_count": 85,
     "metadata": {},
     "output_type": "execute_result"
    }
   ],
   "source": [
    "# Muestra el tipo de dato de cada columna.\n",
    "df.dtypes"
   ]
  },
  {
   "cell_type": "code",
   "execution_count": 86,
   "metadata": {},
   "outputs": [],
   "source": [
    "#crear df limpio\n",
    "df_limpio = df.copy()"
   ]
  },
  {
   "cell_type": "code",
   "execution_count": 87,
   "metadata": {},
   "outputs": [],
   "source": [
    "#Guardar el df en un csv\n",
    "df_limpio.to_csv('datos_limpios.csv', index=False)"
   ]
  },
  {
   "cell_type": "code",
   "execution_count": 88,
   "metadata": {},
   "outputs": [],
   "source": [
    "df_limpio = pd.read_csv(\"datos_limpios.csv\")"
   ]
  },
  {
   "cell_type": "code",
   "execution_count": 89,
   "metadata": {},
   "outputs": [
    {
     "data": {
      "text/html": [
       "<div>\n",
       "<style scoped>\n",
       "    .dataframe tbody tr th:only-of-type {\n",
       "        vertical-align: middle;\n",
       "    }\n",
       "\n",
       "    .dataframe tbody tr th {\n",
       "        vertical-align: top;\n",
       "    }\n",
       "\n",
       "    .dataframe thead th {\n",
       "        text-align: right;\n",
       "    }\n",
       "</style>\n",
       "<table border=\"1\" class=\"dataframe\">\n",
       "  <thead>\n",
       "    <tr style=\"text-align: right;\">\n",
       "      <th></th>\n",
       "      <th>Destination</th>\n",
       "      <th>Start date</th>\n",
       "      <th>End date</th>\n",
       "      <th>Duration (days)</th>\n",
       "      <th>Traveler name</th>\n",
       "      <th>Traveler age</th>\n",
       "      <th>Traveler gender</th>\n",
       "      <th>Traveler nationality</th>\n",
       "      <th>Accommodation type</th>\n",
       "      <th>Accommodation cost</th>\n",
       "      <th>Transportation type</th>\n",
       "      <th>Transportation cost</th>\n",
       "    </tr>\n",
       "  </thead>\n",
       "  <tbody>\n",
       "    <tr>\n",
       "      <th>0</th>\n",
       "      <td>United Kingdom, London</td>\n",
       "      <td>2023-05-01</td>\n",
       "      <td>2023-05-08</td>\n",
       "      <td>7</td>\n",
       "      <td>John Smith</td>\n",
       "      <td>35</td>\n",
       "      <td>Male</td>\n",
       "      <td>USA</td>\n",
       "      <td>Hotel</td>\n",
       "      <td>1200</td>\n",
       "      <td>Flight</td>\n",
       "      <td>600</td>\n",
       "    </tr>\n",
       "    <tr>\n",
       "      <th>1</th>\n",
       "      <td>Indonesia, Bali</td>\n",
       "      <td>2023-07-01</td>\n",
       "      <td>2023-07-08</td>\n",
       "      <td>7</td>\n",
       "      <td>David Lee</td>\n",
       "      <td>45</td>\n",
       "      <td>Male</td>\n",
       "      <td>Korean</td>\n",
       "      <td>Villa</td>\n",
       "      <td>1000</td>\n",
       "      <td>Flight</td>\n",
       "      <td>700</td>\n",
       "    </tr>\n",
       "    <tr>\n",
       "      <th>2</th>\n",
       "      <td>United States, New York</td>\n",
       "      <td>2023-08-15</td>\n",
       "      <td>2023-08-29</td>\n",
       "      <td>14</td>\n",
       "      <td>Sarah Johnson</td>\n",
       "      <td>29</td>\n",
       "      <td>Female</td>\n",
       "      <td>UK</td>\n",
       "      <td>Hotel</td>\n",
       "      <td>2000</td>\n",
       "      <td>Flight</td>\n",
       "      <td>1000</td>\n",
       "    </tr>\n",
       "    <tr>\n",
       "      <th>3</th>\n",
       "      <td>Japan, Tokyo</td>\n",
       "      <td>2023-09-10</td>\n",
       "      <td>2023-09-17</td>\n",
       "      <td>7</td>\n",
       "      <td>Kim Nguyen</td>\n",
       "      <td>26</td>\n",
       "      <td>Female</td>\n",
       "      <td>Vietnamese</td>\n",
       "      <td>Airbnb</td>\n",
       "      <td>700</td>\n",
       "      <td>Train</td>\n",
       "      <td>200</td>\n",
       "    </tr>\n",
       "    <tr>\n",
       "      <th>4</th>\n",
       "      <td>France, Paris</td>\n",
       "      <td>2023-10-05</td>\n",
       "      <td>2023-10-10</td>\n",
       "      <td>5</td>\n",
       "      <td>Michael Brown</td>\n",
       "      <td>42</td>\n",
       "      <td>Male</td>\n",
       "      <td>USA</td>\n",
       "      <td>Hotel</td>\n",
       "      <td>1500</td>\n",
       "      <td>Flight</td>\n",
       "      <td>800</td>\n",
       "    </tr>\n",
       "  </tbody>\n",
       "</table>\n",
       "</div>"
      ],
      "text/plain": [
       "               Destination  Start date    End date  Duration (days)  \\\n",
       "0   United Kingdom, London  2023-05-01  2023-05-08                7   \n",
       "1          Indonesia, Bali  2023-07-01  2023-07-08                7   \n",
       "2  United States, New York  2023-08-15  2023-08-29               14   \n",
       "3             Japan, Tokyo  2023-09-10  2023-09-17                7   \n",
       "4            France, Paris  2023-10-05  2023-10-10                5   \n",
       "\n",
       "   Traveler name  Traveler age Traveler gender Traveler nationality  \\\n",
       "0     John Smith            35            Male                  USA   \n",
       "1      David Lee            45            Male               Korean   \n",
       "2  Sarah Johnson            29          Female                   UK   \n",
       "3     Kim Nguyen            26          Female           Vietnamese   \n",
       "4  Michael Brown            42            Male                  USA   \n",
       "\n",
       "  Accommodation type  Accommodation cost Transportation type  \\\n",
       "0              Hotel                1200              Flight   \n",
       "1              Villa                1000              Flight   \n",
       "2              Hotel                2000              Flight   \n",
       "3             Airbnb                 700               Train   \n",
       "4              Hotel                1500              Flight   \n",
       "\n",
       "   Transportation cost  \n",
       "0                  600  \n",
       "1                  700  \n",
       "2                 1000  \n",
       "3                  200  \n",
       "4                  800  "
      ]
     },
     "execution_count": 89,
     "metadata": {},
     "output_type": "execute_result"
    }
   ],
   "source": [
    "df_limpio.head()"
   ]
  },
  {
   "cell_type": "code",
   "execution_count": 95,
   "metadata": {},
   "outputs": [
    {
     "data": {
      "text/plain": [
       "array(['United Kingdom, London', 'Indonesia, Bali',\n",
       "       'United States, New York', 'Japan, Tokyo', 'France, Paris',\n",
       "       'Brazil, Rio de Janeiro', 'Netherlands, Amsterdam',\n",
       "       'United Arab Emirates, Dubai', 'Mexico, Cancun',\n",
       "       'Spain, Barcelona', 'Germany, Berlin', 'Morocco, Marrakech',\n",
       "       'Scotland, Edinburgh', 'Australia, Sydney', 'Italy, Rome',\n",
       "       'Thailand, Bangkok', 'United States, Hawaii', 'Greece, Athens',\n",
       "       'Egypt, Cairo', 'Mexico, Mexico City', 'Spain, Madrid',\n",
       "       'Canada, Vancouver', 'United States, New York City',\n",
       "       'South Korea, Seoul', 'United States, Los Angeles',\n",
       "       'South Africa, Cape Town', 'Thailand, Phuket', 'Greece, Santorini',\n",
       "       'Cambodia, Phnom Penh', 'New Zealand, Auckland'], dtype=object)"
      ]
     },
     "execution_count": 95,
     "metadata": {},
     "output_type": "execute_result"
    }
   ],
   "source": [
    "df_limpio[\"Destination\"].unique()"
   ]
  },
  {
   "cell_type": "code",
   "execution_count": 96,
   "metadata": {},
   "outputs": [
    {
     "data": {
      "text/plain": [
       "array(['USA', 'Korean', 'UK', 'Vietnamese', 'Brazilian', 'Germany',\n",
       "       'Emirati', 'Mexican', 'Spanish', 'Moroccan', 'Scottish', 'Chinese',\n",
       "       'Japanese', 'Australian', 'Italian', 'Indian', 'Canadian',\n",
       "       'South Korean', 'French', 'South African', 'Taiwanese',\n",
       "       'Indonesian', 'Singapore', 'Greece', 'Cambodia', 'New Zealander'],\n",
       "      dtype=object)"
      ]
     },
     "execution_count": 96,
     "metadata": {},
     "output_type": "execute_result"
    }
   ],
   "source": [
    "df_limpio[\"Traveler nationality\"].unique()"
   ]
  },
  {
   "cell_type": "code",
   "execution_count": 97,
   "metadata": {},
   "outputs": [
    {
     "data": {
      "text/plain": [
       "Destination             object\n",
       "Start date              object\n",
       "End date                object\n",
       "Duration (days)          int64\n",
       "Traveler name           object\n",
       "Traveler age             int64\n",
       "Traveler gender         object\n",
       "Traveler nationality    object\n",
       "Accommodation type      object\n",
       "Accommodation cost       int64\n",
       "Transportation type     object\n",
       "Transportation cost      int64\n",
       "dtype: object"
      ]
     },
     "execution_count": 97,
     "metadata": {},
     "output_type": "execute_result"
    }
   ],
   "source": [
    "df_limpio.dtypes"
   ]
  },
  {
   "cell_type": "code",
   "execution_count": 93,
   "metadata": {},
   "outputs": [
    {
     "data": {
      "text/plain": [
       "Destination             0\n",
       "Start date              0\n",
       "End date                0\n",
       "Duration (days)         0\n",
       "Traveler name           0\n",
       "Traveler age            0\n",
       "Traveler gender         0\n",
       "Traveler nationality    0\n",
       "Accommodation type      0\n",
       "Accommodation cost      0\n",
       "Transportation type     0\n",
       "Transportation cost     0\n",
       "dtype: int64"
      ]
     },
     "execution_count": 93,
     "metadata": {},
     "output_type": "execute_result"
    }
   ],
   "source": [
    "df_limpio.isnull().sum()"
   ]
  },
  {
   "cell_type": "code",
   "execution_count": 98,
   "metadata": {},
   "outputs": [
    {
     "data": {
      "text/plain": [
       "array(['USA', 'Korean', 'UK', 'Vietnamese', 'Brazilian', 'Germany',\n",
       "       'Emirati', 'Mexican', 'Spanish', 'Moroccan', 'Scottish', 'Chinese',\n",
       "       'Japanese', 'Australian', 'Italian', 'Indian', 'Canadian',\n",
       "       'South Korean', 'French', 'South African', 'Taiwanese',\n",
       "       'Indonesian', 'Singapore', 'Greece', 'Cambodia', 'New Zealander'],\n",
       "      dtype=object)"
      ]
     },
     "execution_count": 98,
     "metadata": {},
     "output_type": "execute_result"
    }
   ],
   "source": [
    "df_limpio[\"Traveler nationality\"].unique()"
   ]
  }
 ],
 "metadata": {
  "kernelspec": {
   "display_name": "base",
   "language": "python",
   "name": "python3"
  },
  "language_info": {
   "codemirror_mode": {
    "name": "ipython",
    "version": 3
   },
   "file_extension": ".py",
   "mimetype": "text/x-python",
   "name": "python",
   "nbconvert_exporter": "python",
   "pygments_lexer": "ipython3",
   "version": "3.12.7"
  }
 },
 "nbformat": 4,
 "nbformat_minor": 2
}
