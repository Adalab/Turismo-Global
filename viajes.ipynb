{
 "cells": [
  {
   "cell_type": "code",
   "execution_count": 1,
   "metadata": {},
   "outputs": [],
   "source": [
    "#importacion de las librerias\n",
    "import pandas as pd\n",
    "import numpy as np\n",
    "import warnings #Para quitar avisos en las gráficas"
   ]
  },
  {
   "cell_type": "code",
   "execution_count": 2,
   "metadata": {},
   "outputs": [],
   "source": [
    "df = pd.read_csv(\"Travel details dataset.csv\", index_col=0)"
   ]
  },
  {
   "cell_type": "code",
   "execution_count": 3,
   "metadata": {},
   "outputs": [
    {
     "data": {
      "text/html": [
       "<div>\n",
       "<style scoped>\n",
       "    .dataframe tbody tr th:only-of-type {\n",
       "        vertical-align: middle;\n",
       "    }\n",
       "\n",
       "    .dataframe tbody tr th {\n",
       "        vertical-align: top;\n",
       "    }\n",
       "\n",
       "    .dataframe thead th {\n",
       "        text-align: right;\n",
       "    }\n",
       "</style>\n",
       "<table border=\"1\" class=\"dataframe\">\n",
       "  <thead>\n",
       "    <tr style=\"text-align: right;\">\n",
       "      <th></th>\n",
       "      <th>Destination</th>\n",
       "      <th>Start date</th>\n",
       "      <th>End date</th>\n",
       "      <th>Duration (days)</th>\n",
       "      <th>Traveler name</th>\n",
       "      <th>Traveler age</th>\n",
       "      <th>Traveler gender</th>\n",
       "      <th>Traveler nationality</th>\n",
       "      <th>Accommodation type</th>\n",
       "      <th>Accommodation cost</th>\n",
       "      <th>Transportation type</th>\n",
       "      <th>Transportation cost</th>\n",
       "    </tr>\n",
       "    <tr>\n",
       "      <th>Trip ID</th>\n",
       "      <th></th>\n",
       "      <th></th>\n",
       "      <th></th>\n",
       "      <th></th>\n",
       "      <th></th>\n",
       "      <th></th>\n",
       "      <th></th>\n",
       "      <th></th>\n",
       "      <th></th>\n",
       "      <th></th>\n",
       "      <th></th>\n",
       "      <th></th>\n",
       "    </tr>\n",
       "  </thead>\n",
       "  <tbody>\n",
       "    <tr>\n",
       "      <th>1</th>\n",
       "      <td>London, UK</td>\n",
       "      <td>5/1/2023</td>\n",
       "      <td>5/8/2023</td>\n",
       "      <td>7.0</td>\n",
       "      <td>John Smith</td>\n",
       "      <td>35.0</td>\n",
       "      <td>Male</td>\n",
       "      <td>American</td>\n",
       "      <td>Hotel</td>\n",
       "      <td>1200</td>\n",
       "      <td>Flight</td>\n",
       "      <td>600</td>\n",
       "    </tr>\n",
       "    <tr>\n",
       "      <th>2</th>\n",
       "      <td>Phuket, Thailand</td>\n",
       "      <td>6/15/2023</td>\n",
       "      <td>6/20/2023</td>\n",
       "      <td>5.0</td>\n",
       "      <td>Jane Doe</td>\n",
       "      <td>28.0</td>\n",
       "      <td>Female</td>\n",
       "      <td>Canadian</td>\n",
       "      <td>Resort</td>\n",
       "      <td>800</td>\n",
       "      <td>Flight</td>\n",
       "      <td>500</td>\n",
       "    </tr>\n",
       "    <tr>\n",
       "      <th>3</th>\n",
       "      <td>Bali, Indonesia</td>\n",
       "      <td>7/1/2023</td>\n",
       "      <td>7/8/2023</td>\n",
       "      <td>7.0</td>\n",
       "      <td>David Lee</td>\n",
       "      <td>45.0</td>\n",
       "      <td>Male</td>\n",
       "      <td>Korean</td>\n",
       "      <td>Villa</td>\n",
       "      <td>1000</td>\n",
       "      <td>Flight</td>\n",
       "      <td>700</td>\n",
       "    </tr>\n",
       "    <tr>\n",
       "      <th>4</th>\n",
       "      <td>New York, USA</td>\n",
       "      <td>8/15/2023</td>\n",
       "      <td>8/29/2023</td>\n",
       "      <td>14.0</td>\n",
       "      <td>Sarah Johnson</td>\n",
       "      <td>29.0</td>\n",
       "      <td>Female</td>\n",
       "      <td>British</td>\n",
       "      <td>Hotel</td>\n",
       "      <td>2000</td>\n",
       "      <td>Flight</td>\n",
       "      <td>1000</td>\n",
       "    </tr>\n",
       "    <tr>\n",
       "      <th>5</th>\n",
       "      <td>Tokyo, Japan</td>\n",
       "      <td>9/10/2023</td>\n",
       "      <td>9/17/2023</td>\n",
       "      <td>7.0</td>\n",
       "      <td>Kim Nguyen</td>\n",
       "      <td>26.0</td>\n",
       "      <td>Female</td>\n",
       "      <td>Vietnamese</td>\n",
       "      <td>Airbnb</td>\n",
       "      <td>700</td>\n",
       "      <td>Train</td>\n",
       "      <td>200</td>\n",
       "    </tr>\n",
       "    <tr>\n",
       "      <th>6</th>\n",
       "      <td>Paris, France</td>\n",
       "      <td>10/5/2023</td>\n",
       "      <td>10/10/2023</td>\n",
       "      <td>5.0</td>\n",
       "      <td>Michael Brown</td>\n",
       "      <td>42.0</td>\n",
       "      <td>Male</td>\n",
       "      <td>American</td>\n",
       "      <td>Hotel</td>\n",
       "      <td>1500</td>\n",
       "      <td>Flight</td>\n",
       "      <td>800</td>\n",
       "    </tr>\n",
       "  </tbody>\n",
       "</table>\n",
       "</div>"
      ],
      "text/plain": [
       "              Destination Start date    End date  Duration (days)  \\\n",
       "Trip ID                                                             \n",
       "1              London, UK   5/1/2023    5/8/2023              7.0   \n",
       "2        Phuket, Thailand  6/15/2023   6/20/2023              5.0   \n",
       "3         Bali, Indonesia   7/1/2023    7/8/2023              7.0   \n",
       "4           New York, USA  8/15/2023   8/29/2023             14.0   \n",
       "5            Tokyo, Japan  9/10/2023   9/17/2023              7.0   \n",
       "6           Paris, France  10/5/2023  10/10/2023              5.0   \n",
       "\n",
       "         Traveler name  Traveler age Traveler gender Traveler nationality  \\\n",
       "Trip ID                                                                     \n",
       "1           John Smith          35.0            Male             American   \n",
       "2             Jane Doe          28.0          Female             Canadian   \n",
       "3            David Lee          45.0            Male               Korean   \n",
       "4        Sarah Johnson          29.0          Female              British   \n",
       "5           Kim Nguyen          26.0          Female           Vietnamese   \n",
       "6        Michael Brown          42.0            Male             American   \n",
       "\n",
       "        Accommodation type Accommodation cost Transportation type  \\\n",
       "Trip ID                                                             \n",
       "1                    Hotel               1200              Flight   \n",
       "2                   Resort                800              Flight   \n",
       "3                    Villa               1000              Flight   \n",
       "4                    Hotel               2000              Flight   \n",
       "5                   Airbnb                700               Train   \n",
       "6                    Hotel               1500              Flight   \n",
       "\n",
       "        Transportation cost  \n",
       "Trip ID                      \n",
       "1                       600  \n",
       "2                       500  \n",
       "3                       700  \n",
       "4                      1000  \n",
       "5                       200  \n",
       "6                       800  "
      ]
     },
     "execution_count": 3,
     "metadata": {},
     "output_type": "execute_result"
    }
   ],
   "source": [
    "df.head(6)"
   ]
  },
  {
   "cell_type": "code",
   "execution_count": 4,
   "metadata": {},
   "outputs": [
    {
     "data": {
      "text/plain": [
       "array(['London, UK', 'Phuket, Thailand', 'Bali, Indonesia',\n",
       "       'New York, USA', 'Tokyo, Japan', 'Paris, France',\n",
       "       'Sydney, Australia', 'Rio de Janeiro, Brazil',\n",
       "       'Amsterdam, Netherlands', 'Dubai, United Arab Emirates',\n",
       "       'Cancun, Mexico', 'Barcelona, Spain', 'Honolulu, Hawaii',\n",
       "       'Berlin, Germany', 'Marrakech, Morocco', 'Edinburgh, Scotland',\n",
       "       'Paris', 'Bali', 'London', 'Tokyo', 'New York', 'Sydney', 'Rome',\n",
       "       'Bangkok', 'Hawaii', 'Barcelona', 'Japan', 'Thailand', 'France',\n",
       "       'Australia', 'Brazil', 'Greece', 'Egypt', 'Mexico', 'Italy',\n",
       "       'Spain', 'Canada', 'New York City, USA', 'Bangkok, Thailand',\n",
       "       'Vancouver, Canada', 'Sydney, AUS', 'Seoul, South Korea',\n",
       "       'Los Angeles, USA', 'Rome, Italy', 'Cape Town', nan,\n",
       "       'Cape Town, SA', 'Sydney, Aus', 'Bangkok, Thai', 'Phuket, Thai',\n",
       "       'Dubai', 'Seoul', 'Rio de Janeiro', 'Amsterdam', 'Phuket',\n",
       "       'Santorini', 'Phnom Penh', 'Athens, Greece',\n",
       "       'Cape Town, South Africa', 'Auckland, New Zealand'], dtype=object)"
      ]
     },
     "execution_count": 4,
     "metadata": {},
     "output_type": "execute_result"
    }
   ],
   "source": [
    "df[\"Destination\"].unique()"
   ]
  },
  {
   "cell_type": "code",
   "execution_count": 5,
   "metadata": {},
   "outputs": [
    {
     "data": {
      "text/plain": [
       "array(['London, UK', 'Phuket, Thailand', 'Bali, Indonesia',\n",
       "       'New York, USA', 'Tokyo, Japan', 'Paris, France',\n",
       "       'Sydney, Australia', 'Rio de Janeiro, Brazil',\n",
       "       'Amsterdam, Netherlands', 'Dubai, United Arab Emirates',\n",
       "       'Cancun, Mexico', 'Barcelona, Spain', 'Honolulu, Hawaii',\n",
       "       'Berlin, Germany', 'Marrakech, Morocco', 'Edinburgh, Scotland',\n",
       "       'Paris', 'Bali', 'London', 'Tokyo', 'New York', 'Sydney', 'Rome',\n",
       "       'Bangkok', 'Hawaii', 'Barcelona', 'Japan', 'Thailand', 'France',\n",
       "       'Australia', 'Brazil', 'Greece', 'Egypt', 'Mexico', 'Italy',\n",
       "       'Spain', 'Canada', 'New York City, USA', 'Bangkok, Thailand',\n",
       "       'Vancouver, Canada', 'Sydney, AUS', 'Seoul, South Korea',\n",
       "       'Los Angeles, USA', 'Rome, Italy', 'Cape Town', nan,\n",
       "       'Cape Town, SA', 'Sydney, Aus', 'Bangkok, Thai', 'Phuket, Thai',\n",
       "       'Dubai', 'Seoul', 'Rio de Janeiro', 'Amsterdam', 'Phuket',\n",
       "       'Santorini', 'Phnom Penh', 'Athens, Greece',\n",
       "       'Cape Town, South Africa', 'Auckland, New Zealand'], dtype=object)"
      ]
     },
     "execution_count": 5,
     "metadata": {},
     "output_type": "execute_result"
    }
   ],
   "source": [
    "df[\"Destination\"].unique()"
   ]
  },
  {
   "cell_type": "code",
   "execution_count": 6,
   "metadata": {},
   "outputs": [
    {
     "name": "stdout",
     "output_type": "stream",
     "text": [
      "                     Destination Start date   End date  Duration (days)  \\\n",
      "Trip ID                                                                   \n",
      "1         United Kingdom, London   5/1/2023   5/8/2023              7.0   \n",
      "2           Thailandland, Phuket  6/15/2023  6/20/2023              5.0   \n",
      "3                Indonesia, Bali   7/1/2023   7/8/2023              7.0   \n",
      "4        United States, New York  8/15/2023  8/29/2023             14.0   \n",
      "5                   Japan, Tokyo  9/10/2023  9/17/2023              7.0   \n",
      "...                          ...        ...        ...              ...   \n",
      "135       Brazil, Rio de Janeiro   8/1/2023  8/10/2023              9.0   \n",
      "136            Canada, Vancouver  8/15/2023  8/21/2023              6.0   \n",
      "137        Thailandland, Bangkok   9/1/2023   9/8/2023              7.0   \n",
      "138             Spain, Barcelona  9/15/2023  9/22/2023              7.0   \n",
      "139        New Zealand, Auckland  10/1/2023  10/8/2023              7.0   \n",
      "\n",
      "           Traveler name  Traveler age Traveler gender Traveler nationality  \\\n",
      "Trip ID                                                                       \n",
      "1             John Smith          35.0            Male             American   \n",
      "2               Jane Doe          28.0          Female             Canadian   \n",
      "3              David Lee          45.0            Male               Korean   \n",
      "4          Sarah Johnson          29.0          Female              British   \n",
      "5             Kim Nguyen          26.0          Female           Vietnamese   \n",
      "...                  ...           ...             ...                  ...   \n",
      "135           Jose Perez          37.0            Male            Brazilian   \n",
      "136          Emma Wilson          29.0          Female             Canadian   \n",
      "137            Ryan Chen          34.0            Male              Chinese   \n",
      "138      Sofia Rodriguez          25.0          Female              Spanish   \n",
      "139        William Brown          39.0            Male        New Zealander   \n",
      "\n",
      "        Accommodation type Accommodation cost Transportation type  \\\n",
      "Trip ID                                                             \n",
      "1                    Hotel               1200              Flight   \n",
      "2                   Resort                800              Flight   \n",
      "3                    Villa               1000              Flight   \n",
      "4                    Hotel               2000              Flight   \n",
      "5                   Airbnb                700               Train   \n",
      "...                    ...                ...                 ...   \n",
      "135                 Hostel               2500                 Car   \n",
      "136                  Hotel               5000            Airplane   \n",
      "137                 Hostel               2000               Train   \n",
      "138                 Airbnb               6000            Airplane   \n",
      "139                  Hotel               7000               Train   \n",
      "\n",
      "        Transportation cost  \n",
      "Trip ID                      \n",
      "1                       600  \n",
      "2                       500  \n",
      "3                       700  \n",
      "4                      1000  \n",
      "5                       200  \n",
      "...                     ...  \n",
      "135                    2000  \n",
      "136                    3000  \n",
      "137                    1000  \n",
      "138                    2500  \n",
      "139                    2500  \n",
      "\n",
      "[137 rows x 12 columns]\n"
     ]
    }
   ],
   "source": [
    "\n",
    "\n",
    "def standardize_Destination(Destination):\n",
    "    if pd.isna(Destination):\n",
    "        return None  # Manejar valores NaN\n",
    "\n",
    "    Destination = str(Destination).strip()  # Convertir a string y eliminar espacios\n",
    "\n",
    "    # Correcciones de errores tipográficos\n",
    "    Destination = Destination.replace('Thailandland', 'Thailand')\n",
    "    Destination = Destination.replace('Australiatralia', 'Australia')\n",
    "\n",
    "    if ',' in Destination:\n",
    "        city, country = Destination.split(',', 1)\n",
    "        city = city.strip()\n",
    "        country = country.strip()\n",
    "\n",
    "        # Estandarizar nombres de países\n",
    "        country = country.replace('UK', 'United Kingdom').replace('USA', 'United States').replace('AUS', 'Australia').replace('Aus', 'Australia').replace('Thai', 'Thailand').replace('SA', 'South Africa')\n",
    "\n",
    "        return f'{country}, {city}' # Invertir el orden: país, ciudad\n",
    "    else:\n",
    "        # Rellenar países faltantes\n",
    "        country_mapping = {\n",
    "            'Paris': 'France',\n",
    "            'Bali': 'Indonesia',\n",
    "            'London': 'United Kingdom',\n",
    "            'Tokyo': 'Japan',\n",
    "            'New York': 'United States',\n",
    "            'Sydney': 'Australia',\n",
    "            'Rome': 'Italy',\n",
    "            'Bangkok': 'Thailand',\n",
    "            'Hawaii': 'United States',\n",
    "            'Barcelona': 'Spain',\n",
    "            'Japan': 'Japan',\n",
    "            'Thailand': 'Thailand',\n",
    "            'France': 'France',\n",
    "            'Australia': 'Australia',\n",
    "            'Brazil': 'Brazil',\n",
    "            'Greece': 'Greece',\n",
    "            'Egypt': 'Egypt',\n",
    "            'Mexico': 'Mexico',\n",
    "            'Italy': 'Italy',\n",
    "            'Spain': 'Spain',\n",
    "            'Canada': 'Canada',\n",
    "            'Dubai': 'United Arab Emirates',\n",
    "            'Seoul': 'South Korea',\n",
    "            'Rio de Janeiro': 'Brazil',\n",
    "            'Amsterdam': 'Netherlands',\n",
    "            'Phuket': 'Thailand',\n",
    "            'Santorini': 'Greece',\n",
    "            'Phnom Penh': 'Cambodia',\n",
    "            'Cape Town': 'South Africa',\n",
    "            'Auckland': 'New Zealand',\n",
    "            'Cancun': 'Mexico',\n",
    "            'Honolulu': 'United States',\n",
    "            'Berlin': 'Germany',\n",
    "            'Marrakech': 'Morocco',\n",
    "            'Edinburgh': 'United Kingdom',\n",
    "            'Canberra': 'Australia',\n",
    "            'Brasília': 'Brazil',\n",
    "            'Athens': 'Greece',\n",
    "            'Cairo': 'Egypt',\n",
    "            'Mexico City': 'Mexico',\n",
    "            'Madrid': 'Spain',\n",
    "            'Ottawa': 'Canada',\n",
    "            'Vancouver': 'Canada',\n",
    "            'Los Angeles': 'United States',\n",
    "        }\n",
    "        city = Destination.strip()\n",
    "        country = country_mapping.get(city)\n",
    "        if country:\n",
    "            return f'{country}, {city}' # Invertir el orden: país, ciudad\n",
    "        else:\n",
    "            return Destination #En caso de no encontrar pais, se mantiene igual.\n",
    "\n",
    "# Supongamos que tu DataFrame se llama 'df' y la columna 'Destination' es df['Destination']\n",
    "\n",
    "# Aplicar la función a la columna 'Destination'\n",
    "df['Destination'] = df['Destination'].apply(standardize_Destination)\n",
    "\n",
    "# Eliminar filas con valores nulos en la columna 'Destination'\n",
    "df.dropna(subset=['Destination'], inplace=True)\n",
    "\n",
    "# Imprimir el DataFrame modificado\n",
    "print(df)"
   ]
  },
  {
   "cell_type": "code",
   "execution_count": 7,
   "metadata": {},
   "outputs": [
    {
     "data": {
      "text/plain": [
       "array(['United Kingdom, London', 'Thailandland, Phuket',\n",
       "       'Indonesia, Bali', 'United States, New York', 'Japan, Tokyo',\n",
       "       'France, Paris', 'Australiatralia, Sydney',\n",
       "       'Brazil, Rio de Janeiro', 'Netherlands, Amsterdam',\n",
       "       'United Arab Emirates, Dubai', 'Mexico, Cancun',\n",
       "       'Spain, Barcelona', 'Hawaii, Honolulu', 'Germany, Berlin',\n",
       "       'Morocco, Marrakech', 'Scotland, Edinburgh', 'Australia, Sydney',\n",
       "       'Italy, Rome', 'Thailand, Bangkok', 'United States, Hawaii',\n",
       "       'Japan, Japan', 'Thailand, Thailand', 'France, France',\n",
       "       'Australia, Australia', 'Brazil, Brazil', 'Greece, Greece',\n",
       "       'Egypt, Egypt', 'Mexico, Mexico', 'Italy, Italy', 'Spain, Spain',\n",
       "       'Canada, Canada', 'United States, New York City',\n",
       "       'Thailandland, Bangkok', 'Canada, Vancouver', 'South Korea, Seoul',\n",
       "       'United States, Los Angeles', 'South Africa, Cape Town',\n",
       "       'Thailand, Phuket', 'Greece, Santorini', 'Cambodia, Phnom Penh',\n",
       "       'Greece, Athens', 'New Zealand, Auckland'], dtype=object)"
      ]
     },
     "execution_count": 7,
     "metadata": {},
     "output_type": "execute_result"
    }
   ],
   "source": [
    "df[\"Destination\"].unique()"
   ]
  },
  {
   "cell_type": "code",
   "execution_count": 8,
   "metadata": {},
   "outputs": [
    {
     "name": "stdout",
     "output_type": "stream",
     "text": [
      "Trip ID\n",
      "1       United Kingdom, London\n",
      "2         Thailandland, Phuket\n",
      "3              Indonesia, Bali\n",
      "4      United States, New York\n",
      "5                 Japan, Tokyo\n",
      "                ...           \n",
      "135     Brazil, Rio de Janeiro\n",
      "136          Canada, Vancouver\n",
      "137      Thailandland, Bangkok\n",
      "138           Spain, Barcelona\n",
      "139      New Zealand, Auckland\n",
      "Name: Destination, Length: 137, dtype: object\n"
     ]
    }
   ],
   "source": [
    "# Diccionario de países y capitales\n",
    "country_capitals = {\n",
    "    'Japan': 'Tokyo',\n",
    "    'Thailand': 'Bangkok',\n",
    "    'France': 'Paris',\n",
    "    'Australia': 'Sydney', #En este caso Sydney no es la capital, pero se mantiene ya que es la ciudad que aparece en los datos.\n",
    "    'Brazil': 'Rio de Janeiro',#En este caso Rio de Janeiro no es la capital, pero se mantiene ya que es la ciudad que aparece en los datos.\n",
    "    'Greece': 'Athens',\n",
    "    'Egypt': 'Cairo',\n",
    "    'Mexico': 'Mexico City',\n",
    "    'Italy': 'Rome',\n",
    "    'Spain': 'Madrid',\n",
    "    'Canada': 'Vancouver' #En este caso Vancouver no es la capital, pero se mantiene ya que es la ciudad que aparece en los datos.\n",
    "}\n",
    "\n",
    "# Función para cambiar el formato de los países duplicados\n",
    "def change_country_format(destination):\n",
    "    parts = destination.split(', ')\n",
    "    if len(parts) == 2 and parts[0] == parts[1] and parts[0] in country_capitals:\n",
    "        return f\"{parts[0]}, {country_capitals[parts[0]]}\"\n",
    "    return destination\n",
    "\n",
    "# Aplicar la función a la columna 'Destination'\n",
    "df['Destination'] = df['Destination'].apply(change_country_format)\n",
    "\n",
    "print(df['Destination'])"
   ]
  },
  {
   "cell_type": "code",
   "execution_count": 36,
   "metadata": {},
   "outputs": [],
   "source": [
    "# Supongamos que tu DataFrame se llama 'df'\n",
    "valores_a_eliminar = ['Thailandland, Phuket', 'Australiatralia, Sydney', 'Hawaii, Honolulu']\n",
    "\n",
    "# Reemplaza los valores por NaN\n",
    "df['Destination'] = df['Destination'].replace(valores_a_eliminar, np.nan)\n",
    "\n",
    "# O si quieres reemplazarlos por una cadena vacía:\n",
    "# df['Destination'] = df['Destination'].replace(valores_a_eliminar, '')"
   ]
  },
  {
   "cell_type": "code",
   "execution_count": 37,
   "metadata": {},
   "outputs": [
    {
     "data": {
      "text/plain": [
       "array(['United Kingdom, London', nan, 'Indonesia, Bali',\n",
       "       'United States, New York', 'Japan, Tokyo', 'France, Paris',\n",
       "       'Brazil, Rio de Janeiro', 'Netherlands, Amsterdam',\n",
       "       'United Arab Emirates, Dubai', 'Mexico, Cancun',\n",
       "       'Spain, Barcelona', 'Germany, Berlin', 'Morocco, Marrakech',\n",
       "       'Scotland, Edinburgh', 'Australia, Sydney', 'Italy, Rome',\n",
       "       'Thailand, Bangkok', 'United States, Hawaii', 'Greece, Athens',\n",
       "       'Egypt, Cairo', 'Mexico, Mexico City', 'Spain, Madrid',\n",
       "       'Canada, Vancouver', 'United States, New York City',\n",
       "       'Thailandland, Bangkok', 'South Korea, Seoul',\n",
       "       'United States, Los Angeles', 'South Africa, Cape Town',\n",
       "       'Thailand, Phuket', 'Greece, Santorini', 'Cambodia, Phnom Penh',\n",
       "       'New Zealand, Auckland'], dtype=object)"
      ]
     },
     "execution_count": 37,
     "metadata": {},
     "output_type": "execute_result"
    }
   ],
   "source": [
    "df[\"Destination\"].unique()"
   ]
  },
  {
   "cell_type": "code",
   "execution_count": 41,
   "metadata": {},
   "outputs": [],
   "source": [
    "# Supongamos que tu DataFrame se llama 'df'\n",
    "df.dropna(subset=['Destination'], inplace=True)"
   ]
  },
  {
   "cell_type": "code",
   "execution_count": 42,
   "metadata": {},
   "outputs": [
    {
     "data": {
      "text/plain": [
       "array(['United Kingdom, London', 'Indonesia, Bali',\n",
       "       'United States, New York', 'Japan, Tokyo', 'France, Paris',\n",
       "       'Brazil, Rio de Janeiro', 'Netherlands, Amsterdam',\n",
       "       'United Arab Emirates, Dubai', 'Mexico, Cancun',\n",
       "       'Spain, Barcelona', 'Germany, Berlin', 'Morocco, Marrakech',\n",
       "       'Scotland, Edinburgh', 'Australia, Sydney', 'Italy, Rome',\n",
       "       'Thailand, Bangkok', 'United States, Hawaii', 'Greece, Athens',\n",
       "       'Egypt, Cairo', 'Mexico, Mexico City', 'Spain, Madrid',\n",
       "       'Canada, Vancouver', 'United States, New York City',\n",
       "       'Thailandland, Bangkok', 'South Korea, Seoul',\n",
       "       'United States, Los Angeles', 'South Africa, Cape Town',\n",
       "       'Thailand, Phuket', 'Greece, Santorini', 'Cambodia, Phnom Penh',\n",
       "       'New Zealand, Auckland'], dtype=object)"
      ]
     },
     "execution_count": 42,
     "metadata": {},
     "output_type": "execute_result"
    }
   ],
   "source": [
    "df[\"Destination\"].unique()"
   ]
  },
  {
   "cell_type": "code",
   "execution_count": 45,
   "metadata": {},
   "outputs": [],
   "source": [
    "# Reemplazar 'Thailandland' por 'Thailand' en la columna 'Destination'\n",
    "df['Destination'] = df['Destination'].str.replace('Thailandland', 'Thailand')"
   ]
  },
  {
   "cell_type": "code",
   "execution_count": 46,
   "metadata": {},
   "outputs": [
    {
     "data": {
      "text/plain": [
       "array(['United Kingdom, London', 'Indonesia, Bali',\n",
       "       'United States, New York', 'Japan, Tokyo', 'France, Paris',\n",
       "       'Brazil, Rio de Janeiro', 'Netherlands, Amsterdam',\n",
       "       'United Arab Emirates, Dubai', 'Mexico, Cancun',\n",
       "       'Spain, Barcelona', 'Germany, Berlin', 'Morocco, Marrakech',\n",
       "       'Scotland, Edinburgh', 'Australia, Sydney', 'Italy, Rome',\n",
       "       'Thailand, Bangkok', 'United States, Hawaii', 'Greece, Athens',\n",
       "       'Egypt, Cairo', 'Mexico, Mexico City', 'Spain, Madrid',\n",
       "       'Canada, Vancouver', 'United States, New York City',\n",
       "       'South Korea, Seoul', 'United States, Los Angeles',\n",
       "       'South Africa, Cape Town', 'Thailand, Phuket', 'Greece, Santorini',\n",
       "       'Cambodia, Phnom Penh', 'New Zealand, Auckland'], dtype=object)"
      ]
     },
     "execution_count": 46,
     "metadata": {},
     "output_type": "execute_result"
    }
   ],
   "source": [
    "df[\"Destination\"].unique()"
   ]
  },
  {
   "cell_type": "code",
   "execution_count": 44,
   "metadata": {},
   "outputs": [
    {
     "data": {
      "text/plain": [
       "Destination                     object\n",
       "Start date              datetime64[ns]\n",
       "End date                datetime64[ns]\n",
       "Duration (days)                  int32\n",
       "Traveler name                   object\n",
       "Traveler age                     int32\n",
       "Traveler gender                 object\n",
       "Traveler nationality            object\n",
       "Accommodation type              object\n",
       "Accommodation cost               int64\n",
       "Transportation type             object\n",
       "Transportation cost              int64\n",
       "dtype: object"
      ]
     },
     "execution_count": 44,
     "metadata": {},
     "output_type": "execute_result"
    }
   ],
   "source": [
    "# Muestra el tipo de dato de cada columna.\n",
    "df.dtypes"
   ]
  },
  {
   "cell_type": "code",
   "execution_count": 13,
   "metadata": {},
   "outputs": [
    {
     "data": {
      "text/plain": [
       "Destination             0\n",
       "Start date              0\n",
       "End date                0\n",
       "Duration (days)         0\n",
       "Traveler name           0\n",
       "Traveler age            0\n",
       "Traveler gender         0\n",
       "Traveler nationality    0\n",
       "Accommodation type      0\n",
       "Accommodation cost      0\n",
       "Transportation type     1\n",
       "Transportation cost     1\n",
       "dtype: int64"
      ]
     },
     "execution_count": 13,
     "metadata": {},
     "output_type": "execute_result"
    }
   ],
   "source": [
    "# Cuenta y muestra el número de valores nulos por columna.\n",
    "df.isnull().sum()"
   ]
  },
  {
   "cell_type": "code",
   "execution_count": 14,
   "metadata": {},
   "outputs": [
    {
     "name": "stderr",
     "output_type": "stream",
     "text": [
      "C:\\Users\\hyena\\AppData\\Local\\Temp\\ipykernel_6860\\1784565681.py:2: FutureWarning: A value is trying to be set on a copy of a DataFrame or Series through chained assignment using an inplace method.\n",
      "The behavior will change in pandas 3.0. This inplace method will never work because the intermediate object on which we are setting values always behaves as a copy.\n",
      "\n",
      "For example, when doing 'df[col].method(value, inplace=True)', try using 'df.method({col: value}, inplace=True)' or df[col] = df[col].method(value) instead, to perform the operation inplace on the original object.\n",
      "\n",
      "\n",
      "  df['Traveler age'].fillna(df['Traveler age'].median(), inplace=True)\n"
     ]
    }
   ],
   "source": [
    "# Imputar con la mediana (para columnas numéricas)\n",
    "df['Traveler age'].fillna(df['Traveler age'].median(), inplace=True)\n"
   ]
  },
  {
   "cell_type": "code",
   "execution_count": 15,
   "metadata": {},
   "outputs": [
    {
     "name": "stderr",
     "output_type": "stream",
     "text": [
      "C:\\Users\\hyena\\AppData\\Local\\Temp\\ipykernel_6860\\3825326280.py:2: FutureWarning: A value is trying to be set on a copy of a DataFrame or Series through chained assignment using an inplace method.\n",
      "The behavior will change in pandas 3.0. This inplace method will never work because the intermediate object on which we are setting values always behaves as a copy.\n",
      "\n",
      "For example, when doing 'df[col].method(value, inplace=True)', try using 'df.method({col: value}, inplace=True)' or df[col] = df[col].method(value) instead, to perform the operation inplace on the original object.\n",
      "\n",
      "\n",
      "  df['Destination'].fillna(df['Destination'].mode()[0], inplace=True)\n",
      "C:\\Users\\hyena\\AppData\\Local\\Temp\\ipykernel_6860\\3825326280.py:3: FutureWarning: A value is trying to be set on a copy of a DataFrame or Series through chained assignment using an inplace method.\n",
      "The behavior will change in pandas 3.0. This inplace method will never work because the intermediate object on which we are setting values always behaves as a copy.\n",
      "\n",
      "For example, when doing 'df[col].method(value, inplace=True)', try using 'df.method({col: value}, inplace=True)' or df[col] = df[col].method(value) instead, to perform the operation inplace on the original object.\n",
      "\n",
      "\n",
      "  df['Traveler name'].fillna(df['Traveler name'].mode()[0], inplace=True)\n",
      "C:\\Users\\hyena\\AppData\\Local\\Temp\\ipykernel_6860\\3825326280.py:4: FutureWarning: A value is trying to be set on a copy of a DataFrame or Series through chained assignment using an inplace method.\n",
      "The behavior will change in pandas 3.0. This inplace method will never work because the intermediate object on which we are setting values always behaves as a copy.\n",
      "\n",
      "For example, when doing 'df[col].method(value, inplace=True)', try using 'df.method({col: value}, inplace=True)' or df[col] = df[col].method(value) instead, to perform the operation inplace on the original object.\n",
      "\n",
      "\n",
      "  df['Traveler gender'].fillna(df['Traveler gender'].mode()[0], inplace=True)\n",
      "C:\\Users\\hyena\\AppData\\Local\\Temp\\ipykernel_6860\\3825326280.py:5: FutureWarning: A value is trying to be set on a copy of a DataFrame or Series through chained assignment using an inplace method.\n",
      "The behavior will change in pandas 3.0. This inplace method will never work because the intermediate object on which we are setting values always behaves as a copy.\n",
      "\n",
      "For example, when doing 'df[col].method(value, inplace=True)', try using 'df.method({col: value}, inplace=True)' or df[col] = df[col].method(value) instead, to perform the operation inplace on the original object.\n",
      "\n",
      "\n",
      "  df['Traveler nationality'].fillna(df['Traveler nationality'].mode()[0], inplace=True)\n",
      "C:\\Users\\hyena\\AppData\\Local\\Temp\\ipykernel_6860\\3825326280.py:6: FutureWarning: A value is trying to be set on a copy of a DataFrame or Series through chained assignment using an inplace method.\n",
      "The behavior will change in pandas 3.0. This inplace method will never work because the intermediate object on which we are setting values always behaves as a copy.\n",
      "\n",
      "For example, when doing 'df[col].method(value, inplace=True)', try using 'df.method({col: value}, inplace=True)' or df[col] = df[col].method(value) instead, to perform the operation inplace on the original object.\n",
      "\n",
      "\n",
      "  df['Accommodation type'].fillna(df['Accommodation type'].mode()[0], inplace=True)\n",
      "C:\\Users\\hyena\\AppData\\Local\\Temp\\ipykernel_6860\\3825326280.py:7: FutureWarning: A value is trying to be set on a copy of a DataFrame or Series through chained assignment using an inplace method.\n",
      "The behavior will change in pandas 3.0. This inplace method will never work because the intermediate object on which we are setting values always behaves as a copy.\n",
      "\n",
      "For example, when doing 'df[col].method(value, inplace=True)', try using 'df.method({col: value}, inplace=True)' or df[col] = df[col].method(value) instead, to perform the operation inplace on the original object.\n",
      "\n",
      "\n",
      "  df['Transportation type'].fillna(df['Transportation type'].mode()[0], inplace=True)\n"
     ]
    }
   ],
   "source": [
    " #Imputar con la moda (para columnas categóricas)\n",
    "df['Destination'].fillna(df['Destination'].mode()[0], inplace=True)\n",
    "df['Traveler name'].fillna(df['Traveler name'].mode()[0], inplace=True)\n",
    "df['Traveler gender'].fillna(df['Traveler gender'].mode()[0], inplace=True)\n",
    "df['Traveler nationality'].fillna(df['Traveler nationality'].mode()[0], inplace=True)\n",
    "df['Accommodation type'].fillna(df['Accommodation type'].mode()[0], inplace=True)\n",
    "df['Transportation type'].fillna(df['Transportation type'].mode()[0], inplace=True)"
   ]
  },
  {
   "cell_type": "code",
   "execution_count": 16,
   "metadata": {},
   "outputs": [],
   "source": [
    "#convertir Start date y End date a tipo datetime usando pd.to_datetime()\n",
    "\n",
    "df['Start date'] = pd.to_datetime(df['Start date'], errors='coerce')\n",
    "df['End date'] = pd.to_datetime(df['End date'], errors='coerce')"
   ]
  },
  {
   "cell_type": "code",
   "execution_count": 17,
   "metadata": {},
   "outputs": [],
   "source": [
    "#eliminar nulos (es uno por cada fila)\n",
    "df.dropna(subset=['Start date', 'End date', 'Transportation cost'], inplace=True)"
   ]
  },
  {
   "cell_type": "code",
   "execution_count": 18,
   "metadata": {},
   "outputs": [
    {
     "name": "stderr",
     "output_type": "stream",
     "text": [
      "<>:2: SyntaxWarning: invalid escape sequence '\\d'\n",
      "<>:3: SyntaxWarning: invalid escape sequence '\\d'\n",
      "<>:2: SyntaxWarning: invalid escape sequence '\\d'\n",
      "<>:3: SyntaxWarning: invalid escape sequence '\\d'\n",
      "C:\\Users\\hyena\\AppData\\Local\\Temp\\ipykernel_6860\\1918027900.py:2: SyntaxWarning: invalid escape sequence '\\d'\n",
      "  df['Accommodation cost'] = pd.to_numeric(df['Accommodation cost'].str.replace('[^\\d\\.]', '', regex=True), errors='coerce')\n",
      "C:\\Users\\hyena\\AppData\\Local\\Temp\\ipykernel_6860\\1918027900.py:3: SyntaxWarning: invalid escape sequence '\\d'\n",
      "  df['Transportation cost'] = pd.to_numeric(df['Transportation cost'].str.replace('[^\\d\\.]', '', regex=True), errors='coerce')\n"
     ]
    }
   ],
   "source": [
    " #limpiar los datos de cualquier caracter que impida la correcta conversión, como simbolos de moneda, o comas usadas como separador de miles.\n",
    "df['Accommodation cost'] = pd.to_numeric(df['Accommodation cost'].str.replace('[^\\d\\.]', '', regex=True), errors='coerce')\n",
    "df['Transportation cost'] = pd.to_numeric(df['Transportation cost'].str.replace('[^\\d\\.]', '', regex=True), errors='coerce')"
   ]
  },
  {
   "cell_type": "code",
   "execution_count": null,
   "metadata": {},
   "outputs": [],
   "source": []
  },
  {
   "cell_type": "code",
   "execution_count": 19,
   "metadata": {},
   "outputs": [
    {
     "data": {
      "text/plain": [
       "Destination             0\n",
       "Start date              0\n",
       "End date                0\n",
       "Duration (days)         0\n",
       "Traveler name           0\n",
       "Traveler age            0\n",
       "Traveler gender         0\n",
       "Traveler nationality    0\n",
       "Accommodation type      0\n",
       "Accommodation cost      0\n",
       "Transportation type     0\n",
       "Transportation cost     0\n",
       "dtype: int64"
      ]
     },
     "execution_count": 19,
     "metadata": {},
     "output_type": "execute_result"
    }
   ],
   "source": [
    "df.isnull().sum()"
   ]
  },
  {
   "cell_type": "code",
   "execution_count": 20,
   "metadata": {},
   "outputs": [
    {
     "data": {
      "text/plain": [
       "0"
      ]
     },
     "execution_count": 20,
     "metadata": {},
     "output_type": "execute_result"
    }
   ],
   "source": [
    "# Muestra el número total de filas duplicadas.\n",
    "df.duplicated().sum()"
   ]
  },
  {
   "cell_type": "code",
   "execution_count": 21,
   "metadata": {},
   "outputs": [],
   "source": [
    "#Eliminamos duplicados \n",
    "df.drop_duplicates(inplace=True)"
   ]
  },
  {
   "cell_type": "code",
   "execution_count": 22,
   "metadata": {},
   "outputs": [
    {
     "data": {
      "text/plain": [
       "0"
      ]
     },
     "execution_count": 22,
     "metadata": {},
     "output_type": "execute_result"
    }
   ],
   "source": [
    "#Asegurarse que se han eliminado\n",
    "df.duplicated().sum()"
   ]
  },
  {
   "cell_type": "code",
   "execution_count": 23,
   "metadata": {},
   "outputs": [
    {
     "data": {
      "text/plain": [
       "(136, 12)"
      ]
     },
     "execution_count": 23,
     "metadata": {},
     "output_type": "execute_result"
    }
   ],
   "source": [
    "# Mostrar número de filas y columnas.\n",
    "df.shape"
   ]
  },
  {
   "cell_type": "code",
   "execution_count": 24,
   "metadata": {},
   "outputs": [
    {
     "data": {
      "text/html": [
       "<div>\n",
       "<style scoped>\n",
       "    .dataframe tbody tr th:only-of-type {\n",
       "        vertical-align: middle;\n",
       "    }\n",
       "\n",
       "    .dataframe tbody tr th {\n",
       "        vertical-align: top;\n",
       "    }\n",
       "\n",
       "    .dataframe thead th {\n",
       "        text-align: right;\n",
       "    }\n",
       "</style>\n",
       "<table border=\"1\" class=\"dataframe\">\n",
       "  <thead>\n",
       "    <tr style=\"text-align: right;\">\n",
       "      <th></th>\n",
       "      <th>Destination</th>\n",
       "      <th>Start date</th>\n",
       "      <th>End date</th>\n",
       "      <th>Duration (days)</th>\n",
       "      <th>Traveler name</th>\n",
       "      <th>Traveler age</th>\n",
       "      <th>Traveler gender</th>\n",
       "      <th>Traveler nationality</th>\n",
       "      <th>Accommodation type</th>\n",
       "      <th>Accommodation cost</th>\n",
       "      <th>Transportation type</th>\n",
       "      <th>Transportation cost</th>\n",
       "    </tr>\n",
       "    <tr>\n",
       "      <th>Trip ID</th>\n",
       "      <th></th>\n",
       "      <th></th>\n",
       "      <th></th>\n",
       "      <th></th>\n",
       "      <th></th>\n",
       "      <th></th>\n",
       "      <th></th>\n",
       "      <th></th>\n",
       "      <th></th>\n",
       "      <th></th>\n",
       "      <th></th>\n",
       "      <th></th>\n",
       "    </tr>\n",
       "  </thead>\n",
       "  <tbody>\n",
       "    <tr>\n",
       "      <th>1</th>\n",
       "      <td>United Kingdom, London</td>\n",
       "      <td>2023-05-01</td>\n",
       "      <td>2023-05-08</td>\n",
       "      <td>7.0</td>\n",
       "      <td>John Smith</td>\n",
       "      <td>35.0</td>\n",
       "      <td>Male</td>\n",
       "      <td>American</td>\n",
       "      <td>Hotel</td>\n",
       "      <td>1200</td>\n",
       "      <td>Flight</td>\n",
       "      <td>600</td>\n",
       "    </tr>\n",
       "    <tr>\n",
       "      <th>2</th>\n",
       "      <td>Thailandland, Phuket</td>\n",
       "      <td>2023-06-15</td>\n",
       "      <td>2023-06-20</td>\n",
       "      <td>5.0</td>\n",
       "      <td>Jane Doe</td>\n",
       "      <td>28.0</td>\n",
       "      <td>Female</td>\n",
       "      <td>Canadian</td>\n",
       "      <td>Resort</td>\n",
       "      <td>800</td>\n",
       "      <td>Flight</td>\n",
       "      <td>500</td>\n",
       "    </tr>\n",
       "    <tr>\n",
       "      <th>3</th>\n",
       "      <td>Indonesia, Bali</td>\n",
       "      <td>2023-07-01</td>\n",
       "      <td>2023-07-08</td>\n",
       "      <td>7.0</td>\n",
       "      <td>David Lee</td>\n",
       "      <td>45.0</td>\n",
       "      <td>Male</td>\n",
       "      <td>Korean</td>\n",
       "      <td>Villa</td>\n",
       "      <td>1000</td>\n",
       "      <td>Flight</td>\n",
       "      <td>700</td>\n",
       "    </tr>\n",
       "    <tr>\n",
       "      <th>4</th>\n",
       "      <td>United States, New York</td>\n",
       "      <td>2023-08-15</td>\n",
       "      <td>2023-08-29</td>\n",
       "      <td>14.0</td>\n",
       "      <td>Sarah Johnson</td>\n",
       "      <td>29.0</td>\n",
       "      <td>Female</td>\n",
       "      <td>British</td>\n",
       "      <td>Hotel</td>\n",
       "      <td>2000</td>\n",
       "      <td>Flight</td>\n",
       "      <td>1000</td>\n",
       "    </tr>\n",
       "    <tr>\n",
       "      <th>5</th>\n",
       "      <td>Japan, Tokyo</td>\n",
       "      <td>2023-09-10</td>\n",
       "      <td>2023-09-17</td>\n",
       "      <td>7.0</td>\n",
       "      <td>Kim Nguyen</td>\n",
       "      <td>26.0</td>\n",
       "      <td>Female</td>\n",
       "      <td>Vietnamese</td>\n",
       "      <td>Airbnb</td>\n",
       "      <td>700</td>\n",
       "      <td>Train</td>\n",
       "      <td>200</td>\n",
       "    </tr>\n",
       "  </tbody>\n",
       "</table>\n",
       "</div>"
      ],
      "text/plain": [
       "                     Destination Start date   End date  Duration (days)  \\\n",
       "Trip ID                                                                   \n",
       "1         United Kingdom, London 2023-05-01 2023-05-08              7.0   \n",
       "2           Thailandland, Phuket 2023-06-15 2023-06-20              5.0   \n",
       "3                Indonesia, Bali 2023-07-01 2023-07-08              7.0   \n",
       "4        United States, New York 2023-08-15 2023-08-29             14.0   \n",
       "5                   Japan, Tokyo 2023-09-10 2023-09-17              7.0   \n",
       "\n",
       "         Traveler name  Traveler age Traveler gender Traveler nationality  \\\n",
       "Trip ID                                                                     \n",
       "1           John Smith          35.0            Male             American   \n",
       "2             Jane Doe          28.0          Female             Canadian   \n",
       "3            David Lee          45.0            Male               Korean   \n",
       "4        Sarah Johnson          29.0          Female              British   \n",
       "5           Kim Nguyen          26.0          Female           Vietnamese   \n",
       "\n",
       "        Accommodation type  Accommodation cost Transportation type  \\\n",
       "Trip ID                                                              \n",
       "1                    Hotel                1200              Flight   \n",
       "2                   Resort                 800              Flight   \n",
       "3                    Villa                1000              Flight   \n",
       "4                    Hotel                2000              Flight   \n",
       "5                   Airbnb                 700               Train   \n",
       "\n",
       "         Transportation cost  \n",
       "Trip ID                       \n",
       "1                        600  \n",
       "2                        500  \n",
       "3                        700  \n",
       "4                       1000  \n",
       "5                        200  "
      ]
     },
     "execution_count": 24,
     "metadata": {},
     "output_type": "execute_result"
    }
   ],
   "source": [
    "df.head()"
   ]
  },
  {
   "cell_type": "code",
   "execution_count": 25,
   "metadata": {},
   "outputs": [],
   "source": [
    "# Convertir 'Duration (days)' y 'Traveler age' a enteros\n",
    "df['Duration (days)'] = df['Duration (days)'].astype(int)\n",
    "df['Traveler age'] = df['Traveler age'].astype(int)"
   ]
  },
  {
   "cell_type": "code",
   "execution_count": null,
   "metadata": {},
   "outputs": [],
   "source": []
  },
  {
   "cell_type": "code",
   "execution_count": 26,
   "metadata": {},
   "outputs": [
    {
     "data": {
      "text/plain": [
       "Destination                     object\n",
       "Start date              datetime64[ns]\n",
       "End date                datetime64[ns]\n",
       "Duration (days)                  int32\n",
       "Traveler name                   object\n",
       "Traveler age                     int32\n",
       "Traveler gender                 object\n",
       "Traveler nationality            object\n",
       "Accommodation type              object\n",
       "Accommodation cost               int64\n",
       "Transportation type             object\n",
       "Transportation cost              int64\n",
       "dtype: object"
      ]
     },
     "execution_count": 26,
     "metadata": {},
     "output_type": "execute_result"
    }
   ],
   "source": [
    "# Muestra el tipo de dato de cada columna.\n",
    "df.dtypes"
   ]
  },
  {
   "cell_type": "code",
   "execution_count": 27,
   "metadata": {},
   "outputs": [],
   "source": [
    "#crear df limpio\n",
    "df_limpio = df.copy()"
   ]
  },
  {
   "cell_type": "code",
   "execution_count": 28,
   "metadata": {},
   "outputs": [],
   "source": [
    "#Guardar el df en un csv\n",
    "df_limpio.to_csv('datos_limpios.csv', index=False)"
   ]
  },
  {
   "cell_type": "code",
   "execution_count": 29,
   "metadata": {},
   "outputs": [],
   "source": [
    "df_limpio = pd.read_csv(\"datos_limpios.csv\")"
   ]
  },
  {
   "cell_type": "code",
   "execution_count": 30,
   "metadata": {},
   "outputs": [
    {
     "data": {
      "text/html": [
       "<div>\n",
       "<style scoped>\n",
       "    .dataframe tbody tr th:only-of-type {\n",
       "        vertical-align: middle;\n",
       "    }\n",
       "\n",
       "    .dataframe tbody tr th {\n",
       "        vertical-align: top;\n",
       "    }\n",
       "\n",
       "    .dataframe thead th {\n",
       "        text-align: right;\n",
       "    }\n",
       "</style>\n",
       "<table border=\"1\" class=\"dataframe\">\n",
       "  <thead>\n",
       "    <tr style=\"text-align: right;\">\n",
       "      <th></th>\n",
       "      <th>Destination</th>\n",
       "      <th>Start date</th>\n",
       "      <th>End date</th>\n",
       "      <th>Duration (days)</th>\n",
       "      <th>Traveler name</th>\n",
       "      <th>Traveler age</th>\n",
       "      <th>Traveler gender</th>\n",
       "      <th>Traveler nationality</th>\n",
       "      <th>Accommodation type</th>\n",
       "      <th>Accommodation cost</th>\n",
       "      <th>Transportation type</th>\n",
       "      <th>Transportation cost</th>\n",
       "    </tr>\n",
       "  </thead>\n",
       "  <tbody>\n",
       "    <tr>\n",
       "      <th>0</th>\n",
       "      <td>United Kingdom, London</td>\n",
       "      <td>2023-05-01</td>\n",
       "      <td>2023-05-08</td>\n",
       "      <td>7</td>\n",
       "      <td>John Smith</td>\n",
       "      <td>35</td>\n",
       "      <td>Male</td>\n",
       "      <td>American</td>\n",
       "      <td>Hotel</td>\n",
       "      <td>1200</td>\n",
       "      <td>Flight</td>\n",
       "      <td>600</td>\n",
       "    </tr>\n",
       "    <tr>\n",
       "      <th>1</th>\n",
       "      <td>Thailandland, Phuket</td>\n",
       "      <td>2023-06-15</td>\n",
       "      <td>2023-06-20</td>\n",
       "      <td>5</td>\n",
       "      <td>Jane Doe</td>\n",
       "      <td>28</td>\n",
       "      <td>Female</td>\n",
       "      <td>Canadian</td>\n",
       "      <td>Resort</td>\n",
       "      <td>800</td>\n",
       "      <td>Flight</td>\n",
       "      <td>500</td>\n",
       "    </tr>\n",
       "    <tr>\n",
       "      <th>2</th>\n",
       "      <td>Indonesia, Bali</td>\n",
       "      <td>2023-07-01</td>\n",
       "      <td>2023-07-08</td>\n",
       "      <td>7</td>\n",
       "      <td>David Lee</td>\n",
       "      <td>45</td>\n",
       "      <td>Male</td>\n",
       "      <td>Korean</td>\n",
       "      <td>Villa</td>\n",
       "      <td>1000</td>\n",
       "      <td>Flight</td>\n",
       "      <td>700</td>\n",
       "    </tr>\n",
       "    <tr>\n",
       "      <th>3</th>\n",
       "      <td>United States, New York</td>\n",
       "      <td>2023-08-15</td>\n",
       "      <td>2023-08-29</td>\n",
       "      <td>14</td>\n",
       "      <td>Sarah Johnson</td>\n",
       "      <td>29</td>\n",
       "      <td>Female</td>\n",
       "      <td>British</td>\n",
       "      <td>Hotel</td>\n",
       "      <td>2000</td>\n",
       "      <td>Flight</td>\n",
       "      <td>1000</td>\n",
       "    </tr>\n",
       "    <tr>\n",
       "      <th>4</th>\n",
       "      <td>Japan, Tokyo</td>\n",
       "      <td>2023-09-10</td>\n",
       "      <td>2023-09-17</td>\n",
       "      <td>7</td>\n",
       "      <td>Kim Nguyen</td>\n",
       "      <td>26</td>\n",
       "      <td>Female</td>\n",
       "      <td>Vietnamese</td>\n",
       "      <td>Airbnb</td>\n",
       "      <td>700</td>\n",
       "      <td>Train</td>\n",
       "      <td>200</td>\n",
       "    </tr>\n",
       "  </tbody>\n",
       "</table>\n",
       "</div>"
      ],
      "text/plain": [
       "               Destination  Start date    End date  Duration (days)  \\\n",
       "0   United Kingdom, London  2023-05-01  2023-05-08                7   \n",
       "1     Thailandland, Phuket  2023-06-15  2023-06-20                5   \n",
       "2          Indonesia, Bali  2023-07-01  2023-07-08                7   \n",
       "3  United States, New York  2023-08-15  2023-08-29               14   \n",
       "4             Japan, Tokyo  2023-09-10  2023-09-17                7   \n",
       "\n",
       "   Traveler name  Traveler age Traveler gender Traveler nationality  \\\n",
       "0     John Smith            35            Male             American   \n",
       "1       Jane Doe            28          Female             Canadian   \n",
       "2      David Lee            45            Male               Korean   \n",
       "3  Sarah Johnson            29          Female              British   \n",
       "4     Kim Nguyen            26          Female           Vietnamese   \n",
       "\n",
       "  Accommodation type  Accommodation cost Transportation type  \\\n",
       "0              Hotel                1200              Flight   \n",
       "1             Resort                 800              Flight   \n",
       "2              Villa                1000              Flight   \n",
       "3              Hotel                2000              Flight   \n",
       "4             Airbnb                 700               Train   \n",
       "\n",
       "   Transportation cost  \n",
       "0                  600  \n",
       "1                  500  \n",
       "2                  700  \n",
       "3                 1000  \n",
       "4                  200  "
      ]
     },
     "execution_count": 30,
     "metadata": {},
     "output_type": "execute_result"
    }
   ],
   "source": [
    "df_limpio.head()"
   ]
  },
  {
   "cell_type": "code",
   "execution_count": 35,
   "metadata": {},
   "outputs": [
    {
     "data": {
      "text/plain": [
       "array(['United Kingdom, London', 'Thailandland, Phuket',\n",
       "       'Indonesia, Bali', 'United States, New York', 'Japan, Tokyo',\n",
       "       'France, Paris', 'Australiatralia, Sydney',\n",
       "       'Brazil, Rio de Janeiro', 'Netherlands, Amsterdam',\n",
       "       'United Arab Emirates, Dubai', 'Mexico, Cancun',\n",
       "       'Spain, Barcelona', 'Hawaii, Honolulu', 'Germany, Berlin',\n",
       "       'Morocco, Marrakech', 'Scotland, Edinburgh', 'Australia, Sydney',\n",
       "       'Italy, Rome', 'Thailand, Bangkok', 'United States, Hawaii',\n",
       "       'Greece, Athens', 'Egypt, Cairo', 'Mexico, Mexico City',\n",
       "       'Spain, Madrid', 'Canada, Vancouver',\n",
       "       'United States, New York City', 'Thailandland, Bangkok',\n",
       "       'South Korea, Seoul', 'United States, Los Angeles',\n",
       "       'South Africa, Cape Town', 'Thailand, Phuket', 'Greece, Santorini',\n",
       "       'Cambodia, Phnom Penh', 'New Zealand, Auckland'], dtype=object)"
      ]
     },
     "execution_count": 35,
     "metadata": {},
     "output_type": "execute_result"
    }
   ],
   "source": [
    "df_limpio[\"Destination\"].unique()"
   ]
  },
  {
   "cell_type": "code",
   "execution_count": 31,
   "metadata": {},
   "outputs": [
    {
     "data": {
      "text/plain": [
       "Destination             object\n",
       "Start date              object\n",
       "End date                object\n",
       "Duration (days)          int64\n",
       "Traveler name           object\n",
       "Traveler age             int64\n",
       "Traveler gender         object\n",
       "Traveler nationality    object\n",
       "Accommodation type      object\n",
       "Accommodation cost       int64\n",
       "Transportation type     object\n",
       "Transportation cost      int64\n",
       "dtype: object"
      ]
     },
     "execution_count": 31,
     "metadata": {},
     "output_type": "execute_result"
    }
   ],
   "source": [
    "df_limpio.dtypes"
   ]
  },
  {
   "cell_type": "code",
   "execution_count": 32,
   "metadata": {},
   "outputs": [
    {
     "data": {
      "text/plain": [
       "Destination             0\n",
       "Start date              0\n",
       "End date                0\n",
       "Duration (days)         0\n",
       "Traveler name           0\n",
       "Traveler age            0\n",
       "Traveler gender         0\n",
       "Traveler nationality    0\n",
       "Accommodation type      0\n",
       "Accommodation cost      0\n",
       "Transportation type     0\n",
       "Transportation cost     0\n",
       "dtype: int64"
      ]
     },
     "execution_count": 32,
     "metadata": {},
     "output_type": "execute_result"
    }
   ],
   "source": [
    "df_limpio.isnull().sum()"
   ]
  }
 ],
 "metadata": {
  "kernelspec": {
   "display_name": "base",
   "language": "python",
   "name": "python3"
  },
  "language_info": {
   "codemirror_mode": {
    "name": "ipython",
    "version": 3
   },
   "file_extension": ".py",
   "mimetype": "text/x-python",
   "name": "python",
   "nbconvert_exporter": "python",
   "pygments_lexer": "ipython3",
   "version": "3.12.7"
  }
 },
 "nbformat": 4,
 "nbformat_minor": 2
}
